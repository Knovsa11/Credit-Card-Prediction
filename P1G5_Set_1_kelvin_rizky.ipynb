{
 "cells": [
  {
   "cell_type": "markdown",
   "metadata": {},
   "source": [
    "# Perkenalan"
   ]
  },
  {
   "cell_type": "markdown",
   "metadata": {},
   "source": [
    "Graded Challenge 5\n",
    "\n",
    "Nama  : Kelvin Rizky Novsa\n",
    "    \n",
    "Batch : RMT-028\n",
    "\n",
    "Referensi Schema : [Sumber](https://inseaddataanalytics.github.io/INSEADAnalytics/CourseSessions/ClassificationProcessCreditCardDefault.html#step_1:_split_the_data)\n",
    "\n",
    "Program ini dibuatkan untuk memprediksi apakah seseorang nasabah akan di-default kartu kreditnya di bulan dan\n",
    "model yang diharapkan dapat meminimalisir False Negative (gagal bayar tapi diprediksi sebaliknya) dan menekan False Positive\n",
    "(tidak gagal bayar namun diprediksi sebaliknya). Oleh karena itu metric yang digunakan dalam mengukur performa program (model) ini adalah F1 Score karena \n",
    "dapat melihat harmonisasi Precision dan Recall.\n"
   ]
  },
  {
   "cell_type": "markdown",
   "metadata": {},
   "source": [
    "# Query SQL"
   ]
  },
  {
   "cell_type": "markdown",
   "metadata": {},
   "source": [
    "Mengambil data pada Big Query Menggunakan SQL dengan kriteria GC yang diminta\n",
    "```\n",
    "SELECT\n",
    "  limit_balance,\n",
    "  CAST(sex AS INT64) AS sex,\n",
    "  CAST(education_level AS INT64) AS education_level,\n",
    "  CAST(marital_status AS INT64) AS marital_status,\n",
    "  age,\n",
    "  pay_0,\n",
    "  pay_2,\n",
    "  pay_3,\n",
    "  pay_4,\n",
    "  CAST(pay_5 AS FLOAT64) AS pay_5,\n",
    "  CAST(pay_6 AS FLOAT64) AS pay_6,\n",
    "  bill_amt_1,\n",
    "  bill_amt_2,\n",
    "  bill_amt_3,\n",
    "  bill_amt_4,\n",
    "  bill_amt_5,\n",
    "  bill_amt_6,\n",
    "  pay_amt_1,\n",
    "  pay_amt_2,\n",
    "  pay_amt_3,\n",
    "  pay_amt_4,\n",
    "  pay_amt_5,\n",
    "  pay_amt_6,\n",
    "  CAST(default_payment_next_month AS INT64) AS default_payment_next_month\n",
    "FROM\n",
    "  `bigquery-public-data.ml_datasets.credit_card_default`\n",
    "LIMIT 56000;\n",
    "```"
   ]
  },
  {
   "cell_type": "markdown",
   "metadata": {},
   "source": [
    "# Import Libary"
   ]
  },
  {
   "cell_type": "code",
   "execution_count": 1,
   "metadata": {},
   "outputs": [],
   "source": [
    "# Melakukan import library yang digunakan\n",
    "\n",
    "import pandas as pd\n",
    "import numpy as np\n",
    "import seaborn as sns\n",
    "import matplotlib.pyplot as plt\n",
    "from sklearn.model_selection import train_test_split\n",
    "import phik\n",
    "from phik import phik_matrix\n",
    "from sklearn.preprocessing import MinMaxScaler\n",
    "from sklearn.neighbors import KNeighborsClassifier\n",
    "from sklearn.linear_model import LogisticRegression\n",
    "from sklearn.svm import SVC\n",
    "from sklearn.metrics import classification_report, f1_score\n",
    "from sklearn.metrics import precision_score, recall_score\n",
    "from sklearn.metrics import ConfusionMatrixDisplay\n",
    "from sklearn.model_selection import cross_val_score\n",
    "from sklearn.model_selection import RandomizedSearchCV\n",
    "import pickle\n"
   ]
  },
  {
   "cell_type": "markdown",
   "metadata": {},
   "source": [
    "Melakukan import library yang akan digunakan"
   ]
  },
  {
   "cell_type": "markdown",
   "metadata": {},
   "source": [
    "# Data Loading "
   ]
  },
  {
   "cell_type": "code",
   "execution_count": 2,
   "metadata": {},
   "outputs": [
    {
     "data": {
      "text/html": [
       "<div>\n",
       "<style scoped>\n",
       "    .dataframe tbody tr th:only-of-type {\n",
       "        vertical-align: middle;\n",
       "    }\n",
       "\n",
       "    .dataframe tbody tr th {\n",
       "        vertical-align: top;\n",
       "    }\n",
       "\n",
       "    .dataframe thead th {\n",
       "        text-align: right;\n",
       "    }\n",
       "</style>\n",
       "<table border=\"1\" class=\"dataframe\">\n",
       "  <thead>\n",
       "    <tr style=\"text-align: right;\">\n",
       "      <th></th>\n",
       "      <th>limit_balance</th>\n",
       "      <th>sex</th>\n",
       "      <th>education_level</th>\n",
       "      <th>marital_status</th>\n",
       "      <th>age</th>\n",
       "      <th>pay_0</th>\n",
       "      <th>pay_2</th>\n",
       "      <th>pay_3</th>\n",
       "      <th>pay_4</th>\n",
       "      <th>pay_5</th>\n",
       "      <th>...</th>\n",
       "      <th>bill_amt_4</th>\n",
       "      <th>bill_amt_5</th>\n",
       "      <th>bill_amt_6</th>\n",
       "      <th>pay_amt_1</th>\n",
       "      <th>pay_amt_2</th>\n",
       "      <th>pay_amt_3</th>\n",
       "      <th>pay_amt_4</th>\n",
       "      <th>pay_amt_5</th>\n",
       "      <th>pay_amt_6</th>\n",
       "      <th>default_payment_next_month</th>\n",
       "    </tr>\n",
       "  </thead>\n",
       "  <tbody>\n",
       "    <tr>\n",
       "      <th>0</th>\n",
       "      <td>80000.0</td>\n",
       "      <td>1</td>\n",
       "      <td>6</td>\n",
       "      <td>1</td>\n",
       "      <td>54.0</td>\n",
       "      <td>0.0</td>\n",
       "      <td>0.0</td>\n",
       "      <td>0.0</td>\n",
       "      <td>0.0</td>\n",
       "      <td>0.0</td>\n",
       "      <td>...</td>\n",
       "      <td>29296.0</td>\n",
       "      <td>26210.0</td>\n",
       "      <td>17643.0</td>\n",
       "      <td>2545.0</td>\n",
       "      <td>2208.0</td>\n",
       "      <td>1336.0</td>\n",
       "      <td>2232.0</td>\n",
       "      <td>542.0</td>\n",
       "      <td>348.0</td>\n",
       "      <td>1</td>\n",
       "    </tr>\n",
       "    <tr>\n",
       "      <th>1</th>\n",
       "      <td>200000.0</td>\n",
       "      <td>1</td>\n",
       "      <td>4</td>\n",
       "      <td>1</td>\n",
       "      <td>49.0</td>\n",
       "      <td>0.0</td>\n",
       "      <td>0.0</td>\n",
       "      <td>0.0</td>\n",
       "      <td>0.0</td>\n",
       "      <td>0.0</td>\n",
       "      <td>...</td>\n",
       "      <td>50146.0</td>\n",
       "      <td>50235.0</td>\n",
       "      <td>48984.0</td>\n",
       "      <td>1689.0</td>\n",
       "      <td>2164.0</td>\n",
       "      <td>2500.0</td>\n",
       "      <td>3480.0</td>\n",
       "      <td>2500.0</td>\n",
       "      <td>3000.0</td>\n",
       "      <td>0</td>\n",
       "    </tr>\n",
       "    <tr>\n",
       "      <th>2</th>\n",
       "      <td>20000.0</td>\n",
       "      <td>2</td>\n",
       "      <td>6</td>\n",
       "      <td>2</td>\n",
       "      <td>22.0</td>\n",
       "      <td>0.0</td>\n",
       "      <td>0.0</td>\n",
       "      <td>0.0</td>\n",
       "      <td>0.0</td>\n",
       "      <td>0.0</td>\n",
       "      <td>...</td>\n",
       "      <td>1434.0</td>\n",
       "      <td>500.0</td>\n",
       "      <td>0.0</td>\n",
       "      <td>4641.0</td>\n",
       "      <td>1019.0</td>\n",
       "      <td>900.0</td>\n",
       "      <td>0.0</td>\n",
       "      <td>1500.0</td>\n",
       "      <td>0.0</td>\n",
       "      <td>1</td>\n",
       "    </tr>\n",
       "    <tr>\n",
       "      <th>3</th>\n",
       "      <td>260000.0</td>\n",
       "      <td>2</td>\n",
       "      <td>4</td>\n",
       "      <td>2</td>\n",
       "      <td>33.0</td>\n",
       "      <td>0.0</td>\n",
       "      <td>0.0</td>\n",
       "      <td>0.0</td>\n",
       "      <td>0.0</td>\n",
       "      <td>0.0</td>\n",
       "      <td>...</td>\n",
       "      <td>27821.0</td>\n",
       "      <td>30767.0</td>\n",
       "      <td>29890.0</td>\n",
       "      <td>5000.0</td>\n",
       "      <td>5000.0</td>\n",
       "      <td>1137.0</td>\n",
       "      <td>5000.0</td>\n",
       "      <td>1085.0</td>\n",
       "      <td>5000.0</td>\n",
       "      <td>0</td>\n",
       "    </tr>\n",
       "    <tr>\n",
       "      <th>4</th>\n",
       "      <td>150000.0</td>\n",
       "      <td>1</td>\n",
       "      <td>4</td>\n",
       "      <td>2</td>\n",
       "      <td>32.0</td>\n",
       "      <td>0.0</td>\n",
       "      <td>0.0</td>\n",
       "      <td>0.0</td>\n",
       "      <td>-1.0</td>\n",
       "      <td>0.0</td>\n",
       "      <td>...</td>\n",
       "      <td>150464.0</td>\n",
       "      <td>143375.0</td>\n",
       "      <td>146411.0</td>\n",
       "      <td>4019.0</td>\n",
       "      <td>146896.0</td>\n",
       "      <td>157436.0</td>\n",
       "      <td>4600.0</td>\n",
       "      <td>4709.0</td>\n",
       "      <td>5600.0</td>\n",
       "      <td>0</td>\n",
       "    </tr>\n",
       "    <tr>\n",
       "      <th>5</th>\n",
       "      <td>300000.0</td>\n",
       "      <td>2</td>\n",
       "      <td>4</td>\n",
       "      <td>2</td>\n",
       "      <td>32.0</td>\n",
       "      <td>0.0</td>\n",
       "      <td>0.0</td>\n",
       "      <td>0.0</td>\n",
       "      <td>0.0</td>\n",
       "      <td>0.0</td>\n",
       "      <td>...</td>\n",
       "      <td>65150.0</td>\n",
       "      <td>-450.0</td>\n",
       "      <td>700.0</td>\n",
       "      <td>15235.0</td>\n",
       "      <td>1491.0</td>\n",
       "      <td>1303.0</td>\n",
       "      <td>0.0</td>\n",
       "      <td>2000.0</td>\n",
       "      <td>1400.0</td>\n",
       "      <td>0</td>\n",
       "    </tr>\n",
       "    <tr>\n",
       "      <th>6</th>\n",
       "      <td>130000.0</td>\n",
       "      <td>1</td>\n",
       "      <td>1</td>\n",
       "      <td>1</td>\n",
       "      <td>45.0</td>\n",
       "      <td>0.0</td>\n",
       "      <td>0.0</td>\n",
       "      <td>0.0</td>\n",
       "      <td>0.0</td>\n",
       "      <td>0.0</td>\n",
       "      <td>...</td>\n",
       "      <td>62377.0</td>\n",
       "      <td>63832.0</td>\n",
       "      <td>65099.0</td>\n",
       "      <td>2886.0</td>\n",
       "      <td>2908.0</td>\n",
       "      <td>2129.0</td>\n",
       "      <td>2354.0</td>\n",
       "      <td>2366.0</td>\n",
       "      <td>2291.0</td>\n",
       "      <td>0</td>\n",
       "    </tr>\n",
       "    <tr>\n",
       "      <th>7</th>\n",
       "      <td>200000.0</td>\n",
       "      <td>1</td>\n",
       "      <td>1</td>\n",
       "      <td>1</td>\n",
       "      <td>58.0</td>\n",
       "      <td>0.0</td>\n",
       "      <td>0.0</td>\n",
       "      <td>0.0</td>\n",
       "      <td>0.0</td>\n",
       "      <td>0.0</td>\n",
       "      <td>...</td>\n",
       "      <td>124647.0</td>\n",
       "      <td>126921.0</td>\n",
       "      <td>129167.0</td>\n",
       "      <td>7822.0</td>\n",
       "      <td>4417.0</td>\n",
       "      <td>4446.0</td>\n",
       "      <td>4597.0</td>\n",
       "      <td>4677.0</td>\n",
       "      <td>4698.0</td>\n",
       "      <td>0</td>\n",
       "    </tr>\n",
       "    <tr>\n",
       "      <th>8</th>\n",
       "      <td>500000.0</td>\n",
       "      <td>1</td>\n",
       "      <td>1</td>\n",
       "      <td>1</td>\n",
       "      <td>39.0</td>\n",
       "      <td>0.0</td>\n",
       "      <td>0.0</td>\n",
       "      <td>0.0</td>\n",
       "      <td>0.0</td>\n",
       "      <td>0.0</td>\n",
       "      <td>...</td>\n",
       "      <td>174500.0</td>\n",
       "      <td>137406.0</td>\n",
       "      <td>204975.0</td>\n",
       "      <td>54209.0</td>\n",
       "      <td>4607.0</td>\n",
       "      <td>4603.0</td>\n",
       "      <td>5224.0</td>\n",
       "      <td>207440.0</td>\n",
       "      <td>7509.0</td>\n",
       "      <td>0</td>\n",
       "    </tr>\n",
       "    <tr>\n",
       "      <th>9</th>\n",
       "      <td>230000.0</td>\n",
       "      <td>1</td>\n",
       "      <td>1</td>\n",
       "      <td>1</td>\n",
       "      <td>48.0</td>\n",
       "      <td>0.0</td>\n",
       "      <td>0.0</td>\n",
       "      <td>0.0</td>\n",
       "      <td>0.0</td>\n",
       "      <td>0.0</td>\n",
       "      <td>...</td>\n",
       "      <td>105508.0</td>\n",
       "      <td>108101.0</td>\n",
       "      <td>110094.0</td>\n",
       "      <td>7000.0</td>\n",
       "      <td>6607.0</td>\n",
       "      <td>3773.0</td>\n",
       "      <td>4290.0</td>\n",
       "      <td>4164.0</td>\n",
       "      <td>2000.0</td>\n",
       "      <td>0</td>\n",
       "    </tr>\n",
       "  </tbody>\n",
       "</table>\n",
       "<p>10 rows × 24 columns</p>\n",
       "</div>"
      ],
      "text/plain": [
       "   limit_balance  sex  education_level  marital_status   age  pay_0  pay_2  \\\n",
       "0        80000.0    1                6               1  54.0    0.0    0.0   \n",
       "1       200000.0    1                4               1  49.0    0.0    0.0   \n",
       "2        20000.0    2                6               2  22.0    0.0    0.0   \n",
       "3       260000.0    2                4               2  33.0    0.0    0.0   \n",
       "4       150000.0    1                4               2  32.0    0.0    0.0   \n",
       "5       300000.0    2                4               2  32.0    0.0    0.0   \n",
       "6       130000.0    1                1               1  45.0    0.0    0.0   \n",
       "7       200000.0    1                1               1  58.0    0.0    0.0   \n",
       "8       500000.0    1                1               1  39.0    0.0    0.0   \n",
       "9       230000.0    1                1               1  48.0    0.0    0.0   \n",
       "\n",
       "   pay_3  pay_4  pay_5  ...  bill_amt_4  bill_amt_5  bill_amt_6  pay_amt_1  \\\n",
       "0    0.0    0.0    0.0  ...     29296.0     26210.0     17643.0     2545.0   \n",
       "1    0.0    0.0    0.0  ...     50146.0     50235.0     48984.0     1689.0   \n",
       "2    0.0    0.0    0.0  ...      1434.0       500.0         0.0     4641.0   \n",
       "3    0.0    0.0    0.0  ...     27821.0     30767.0     29890.0     5000.0   \n",
       "4    0.0   -1.0    0.0  ...    150464.0    143375.0    146411.0     4019.0   \n",
       "5    0.0    0.0    0.0  ...     65150.0      -450.0       700.0    15235.0   \n",
       "6    0.0    0.0    0.0  ...     62377.0     63832.0     65099.0     2886.0   \n",
       "7    0.0    0.0    0.0  ...    124647.0    126921.0    129167.0     7822.0   \n",
       "8    0.0    0.0    0.0  ...    174500.0    137406.0    204975.0    54209.0   \n",
       "9    0.0    0.0    0.0  ...    105508.0    108101.0    110094.0     7000.0   \n",
       "\n",
       "   pay_amt_2  pay_amt_3  pay_amt_4  pay_amt_5  pay_amt_6  \\\n",
       "0     2208.0     1336.0     2232.0      542.0      348.0   \n",
       "1     2164.0     2500.0     3480.0     2500.0     3000.0   \n",
       "2     1019.0      900.0        0.0     1500.0        0.0   \n",
       "3     5000.0     1137.0     5000.0     1085.0     5000.0   \n",
       "4   146896.0   157436.0     4600.0     4709.0     5600.0   \n",
       "5     1491.0     1303.0        0.0     2000.0     1400.0   \n",
       "6     2908.0     2129.0     2354.0     2366.0     2291.0   \n",
       "7     4417.0     4446.0     4597.0     4677.0     4698.0   \n",
       "8     4607.0     4603.0     5224.0   207440.0     7509.0   \n",
       "9     6607.0     3773.0     4290.0     4164.0     2000.0   \n",
       "\n",
       "   default_payment_next_month  \n",
       "0                           1  \n",
       "1                           0  \n",
       "2                           1  \n",
       "3                           0  \n",
       "4                           0  \n",
       "5                           0  \n",
       "6                           0  \n",
       "7                           0  \n",
       "8                           0  \n",
       "9                           0  \n",
       "\n",
       "[10 rows x 24 columns]"
      ]
     },
     "execution_count": 2,
     "metadata": {},
     "output_type": "execute_result"
    }
   ],
   "source": [
    "# Melakukan import data csv ke dalam dataframe menggunakan pandas serta melakukan pemanggilan dataframe\n",
    "\n",
    "df_original = pd.read_csv(\"P1G5_Set_1_kelvin_rizky.csv\")\n",
    "\n",
    "# Duplikasi data ori\n",
    "df = df_original.copy()\n",
    "\n",
    "# Menampilkan 10 baris pertama dalam dataset\n",
    "df.head(10)"
   ]
  },
  {
   "cell_type": "markdown",
   "metadata": {},
   "source": [
    "Melakukan import data P1G5_Set_1_kelvin_rizky yang sebelumnya diambil pada bigquery data set dan memasukkannya ke dalam dataframe menggunakan pandas. Kemudian menampilkan 10 baris pertama pada dataset."
   ]
  },
  {
   "cell_type": "code",
   "execution_count": 3,
   "metadata": {},
   "outputs": [
    {
     "data": {
      "text/html": [
       "<div>\n",
       "<style scoped>\n",
       "    .dataframe tbody tr th:only-of-type {\n",
       "        vertical-align: middle;\n",
       "    }\n",
       "\n",
       "    .dataframe tbody tr th {\n",
       "        vertical-align: top;\n",
       "    }\n",
       "\n",
       "    .dataframe thead th {\n",
       "        text-align: right;\n",
       "    }\n",
       "</style>\n",
       "<table border=\"1\" class=\"dataframe\">\n",
       "  <thead>\n",
       "    <tr style=\"text-align: right;\">\n",
       "      <th></th>\n",
       "      <th>limit_balance</th>\n",
       "      <th>sex</th>\n",
       "      <th>education_level</th>\n",
       "      <th>marital_status</th>\n",
       "      <th>age</th>\n",
       "      <th>pay_0</th>\n",
       "      <th>pay_2</th>\n",
       "      <th>pay_3</th>\n",
       "      <th>pay_4</th>\n",
       "      <th>pay_5</th>\n",
       "      <th>...</th>\n",
       "      <th>bill_amt_4</th>\n",
       "      <th>bill_amt_5</th>\n",
       "      <th>bill_amt_6</th>\n",
       "      <th>pay_amt_1</th>\n",
       "      <th>pay_amt_2</th>\n",
       "      <th>pay_amt_3</th>\n",
       "      <th>pay_amt_4</th>\n",
       "      <th>pay_amt_5</th>\n",
       "      <th>pay_amt_6</th>\n",
       "      <th>default_payment_next_month</th>\n",
       "    </tr>\n",
       "  </thead>\n",
       "  <tbody>\n",
       "    <tr>\n",
       "      <th>2955</th>\n",
       "      <td>360000.0</td>\n",
       "      <td>2</td>\n",
       "      <td>2</td>\n",
       "      <td>2</td>\n",
       "      <td>26.0</td>\n",
       "      <td>-1.0</td>\n",
       "      <td>-1.0</td>\n",
       "      <td>-1.0</td>\n",
       "      <td>-1.0</td>\n",
       "      <td>-2.0</td>\n",
       "      <td>...</td>\n",
       "      <td>0.0</td>\n",
       "      <td>0.0</td>\n",
       "      <td>0.0</td>\n",
       "      <td>463.0</td>\n",
       "      <td>2500.0</td>\n",
       "      <td>0.0</td>\n",
       "      <td>0.0</td>\n",
       "      <td>0.0</td>\n",
       "      <td>0.0</td>\n",
       "      <td>0</td>\n",
       "    </tr>\n",
       "    <tr>\n",
       "      <th>2956</th>\n",
       "      <td>100000.0</td>\n",
       "      <td>1</td>\n",
       "      <td>3</td>\n",
       "      <td>1</td>\n",
       "      <td>40.0</td>\n",
       "      <td>0.0</td>\n",
       "      <td>0.0</td>\n",
       "      <td>-1.0</td>\n",
       "      <td>-1.0</td>\n",
       "      <td>-2.0</td>\n",
       "      <td>...</td>\n",
       "      <td>0.0</td>\n",
       "      <td>0.0</td>\n",
       "      <td>0.0</td>\n",
       "      <td>2000.0</td>\n",
       "      <td>2377.0</td>\n",
       "      <td>40000.0</td>\n",
       "      <td>0.0</td>\n",
       "      <td>0.0</td>\n",
       "      <td>0.0</td>\n",
       "      <td>0</td>\n",
       "    </tr>\n",
       "    <tr>\n",
       "      <th>2957</th>\n",
       "      <td>30000.0</td>\n",
       "      <td>2</td>\n",
       "      <td>3</td>\n",
       "      <td>1</td>\n",
       "      <td>48.0</td>\n",
       "      <td>1.0</td>\n",
       "      <td>-1.0</td>\n",
       "      <td>-1.0</td>\n",
       "      <td>-2.0</td>\n",
       "      <td>-2.0</td>\n",
       "      <td>...</td>\n",
       "      <td>0.0</td>\n",
       "      <td>0.0</td>\n",
       "      <td>0.0</td>\n",
       "      <td>200.0</td>\n",
       "      <td>0.0</td>\n",
       "      <td>0.0</td>\n",
       "      <td>0.0</td>\n",
       "      <td>0.0</td>\n",
       "      <td>0.0</td>\n",
       "      <td>0</td>\n",
       "    </tr>\n",
       "    <tr>\n",
       "      <th>2958</th>\n",
       "      <td>80000.0</td>\n",
       "      <td>2</td>\n",
       "      <td>3</td>\n",
       "      <td>1</td>\n",
       "      <td>39.0</td>\n",
       "      <td>-1.0</td>\n",
       "      <td>-1.0</td>\n",
       "      <td>-1.0</td>\n",
       "      <td>-1.0</td>\n",
       "      <td>-2.0</td>\n",
       "      <td>...</td>\n",
       "      <td>0.0</td>\n",
       "      <td>0.0</td>\n",
       "      <td>5000.0</td>\n",
       "      <td>5000.0</td>\n",
       "      <td>5000.0</td>\n",
       "      <td>0.0</td>\n",
       "      <td>5000.0</td>\n",
       "      <td>5000.0</td>\n",
       "      <td>470.0</td>\n",
       "      <td>0</td>\n",
       "    </tr>\n",
       "    <tr>\n",
       "      <th>2959</th>\n",
       "      <td>20000.0</td>\n",
       "      <td>1</td>\n",
       "      <td>3</td>\n",
       "      <td>2</td>\n",
       "      <td>26.0</td>\n",
       "      <td>-1.0</td>\n",
       "      <td>-1.0</td>\n",
       "      <td>-1.0</td>\n",
       "      <td>-2.0</td>\n",
       "      <td>-2.0</td>\n",
       "      <td>...</td>\n",
       "      <td>0.0</td>\n",
       "      <td>0.0</td>\n",
       "      <td>0.0</td>\n",
       "      <td>1560.0</td>\n",
       "      <td>0.0</td>\n",
       "      <td>0.0</td>\n",
       "      <td>0.0</td>\n",
       "      <td>0.0</td>\n",
       "      <td>0.0</td>\n",
       "      <td>0</td>\n",
       "    </tr>\n",
       "    <tr>\n",
       "      <th>2960</th>\n",
       "      <td>80000.0</td>\n",
       "      <td>2</td>\n",
       "      <td>3</td>\n",
       "      <td>2</td>\n",
       "      <td>28.0</td>\n",
       "      <td>-1.0</td>\n",
       "      <td>-1.0</td>\n",
       "      <td>-1.0</td>\n",
       "      <td>-2.0</td>\n",
       "      <td>-2.0</td>\n",
       "      <td>...</td>\n",
       "      <td>0.0</td>\n",
       "      <td>0.0</td>\n",
       "      <td>0.0</td>\n",
       "      <td>2800.0</td>\n",
       "      <td>0.0</td>\n",
       "      <td>0.0</td>\n",
       "      <td>0.0</td>\n",
       "      <td>0.0</td>\n",
       "      <td>0.0</td>\n",
       "      <td>0</td>\n",
       "    </tr>\n",
       "    <tr>\n",
       "      <th>2961</th>\n",
       "      <td>50000.0</td>\n",
       "      <td>2</td>\n",
       "      <td>3</td>\n",
       "      <td>1</td>\n",
       "      <td>51.0</td>\n",
       "      <td>-1.0</td>\n",
       "      <td>-1.0</td>\n",
       "      <td>-1.0</td>\n",
       "      <td>-1.0</td>\n",
       "      <td>-2.0</td>\n",
       "      <td>...</td>\n",
       "      <td>0.0</td>\n",
       "      <td>0.0</td>\n",
       "      <td>0.0</td>\n",
       "      <td>300.0</td>\n",
       "      <td>5880.0</td>\n",
       "      <td>0.0</td>\n",
       "      <td>0.0</td>\n",
       "      <td>0.0</td>\n",
       "      <td>0.0</td>\n",
       "      <td>1</td>\n",
       "    </tr>\n",
       "    <tr>\n",
       "      <th>2962</th>\n",
       "      <td>450000.0</td>\n",
       "      <td>2</td>\n",
       "      <td>2</td>\n",
       "      <td>1</td>\n",
       "      <td>38.0</td>\n",
       "      <td>-2.0</td>\n",
       "      <td>-2.0</td>\n",
       "      <td>-2.0</td>\n",
       "      <td>-2.0</td>\n",
       "      <td>-2.0</td>\n",
       "      <td>...</td>\n",
       "      <td>390.0</td>\n",
       "      <td>390.0</td>\n",
       "      <td>390.0</td>\n",
       "      <td>390.0</td>\n",
       "      <td>780.0</td>\n",
       "      <td>390.0</td>\n",
       "      <td>390.0</td>\n",
       "      <td>390.0</td>\n",
       "      <td>390.0</td>\n",
       "      <td>1</td>\n",
       "    </tr>\n",
       "    <tr>\n",
       "      <th>2963</th>\n",
       "      <td>50000.0</td>\n",
       "      <td>2</td>\n",
       "      <td>2</td>\n",
       "      <td>1</td>\n",
       "      <td>44.0</td>\n",
       "      <td>-2.0</td>\n",
       "      <td>-2.0</td>\n",
       "      <td>-2.0</td>\n",
       "      <td>-2.0</td>\n",
       "      <td>-2.0</td>\n",
       "      <td>...</td>\n",
       "      <td>390.0</td>\n",
       "      <td>390.0</td>\n",
       "      <td>0.0</td>\n",
       "      <td>390.0</td>\n",
       "      <td>390.0</td>\n",
       "      <td>390.0</td>\n",
       "      <td>390.0</td>\n",
       "      <td>0.0</td>\n",
       "      <td>780.0</td>\n",
       "      <td>0</td>\n",
       "    </tr>\n",
       "    <tr>\n",
       "      <th>2964</th>\n",
       "      <td>290000.0</td>\n",
       "      <td>2</td>\n",
       "      <td>2</td>\n",
       "      <td>1</td>\n",
       "      <td>39.0</td>\n",
       "      <td>1.0</td>\n",
       "      <td>-2.0</td>\n",
       "      <td>-2.0</td>\n",
       "      <td>-2.0</td>\n",
       "      <td>-2.0</td>\n",
       "      <td>...</td>\n",
       "      <td>3184.0</td>\n",
       "      <td>390.0</td>\n",
       "      <td>390.0</td>\n",
       "      <td>10000.0</td>\n",
       "      <td>800.0</td>\n",
       "      <td>3184.0</td>\n",
       "      <td>390.0</td>\n",
       "      <td>390.0</td>\n",
       "      <td>6617.0</td>\n",
       "      <td>0</td>\n",
       "    </tr>\n",
       "  </tbody>\n",
       "</table>\n",
       "<p>10 rows × 24 columns</p>\n",
       "</div>"
      ],
      "text/plain": [
       "      limit_balance  sex  education_level  marital_status   age  pay_0  pay_2  \\\n",
       "2955       360000.0    2                2               2  26.0   -1.0   -1.0   \n",
       "2956       100000.0    1                3               1  40.0    0.0    0.0   \n",
       "2957        30000.0    2                3               1  48.0    1.0   -1.0   \n",
       "2958        80000.0    2                3               1  39.0   -1.0   -1.0   \n",
       "2959        20000.0    1                3               2  26.0   -1.0   -1.0   \n",
       "2960        80000.0    2                3               2  28.0   -1.0   -1.0   \n",
       "2961        50000.0    2                3               1  51.0   -1.0   -1.0   \n",
       "2962       450000.0    2                2               1  38.0   -2.0   -2.0   \n",
       "2963        50000.0    2                2               1  44.0   -2.0   -2.0   \n",
       "2964       290000.0    2                2               1  39.0    1.0   -2.0   \n",
       "\n",
       "      pay_3  pay_4  pay_5  ...  bill_amt_4  bill_amt_5  bill_amt_6  pay_amt_1  \\\n",
       "2955   -1.0   -1.0   -2.0  ...         0.0         0.0         0.0      463.0   \n",
       "2956   -1.0   -1.0   -2.0  ...         0.0         0.0         0.0     2000.0   \n",
       "2957   -1.0   -2.0   -2.0  ...         0.0         0.0         0.0      200.0   \n",
       "2958   -1.0   -1.0   -2.0  ...         0.0         0.0      5000.0     5000.0   \n",
       "2959   -1.0   -2.0   -2.0  ...         0.0         0.0         0.0     1560.0   \n",
       "2960   -1.0   -2.0   -2.0  ...         0.0         0.0         0.0     2800.0   \n",
       "2961   -1.0   -1.0   -2.0  ...         0.0         0.0         0.0      300.0   \n",
       "2962   -2.0   -2.0   -2.0  ...       390.0       390.0       390.0      390.0   \n",
       "2963   -2.0   -2.0   -2.0  ...       390.0       390.0         0.0      390.0   \n",
       "2964   -2.0   -2.0   -2.0  ...      3184.0       390.0       390.0    10000.0   \n",
       "\n",
       "      pay_amt_2  pay_amt_3  pay_amt_4  pay_amt_5  pay_amt_6  \\\n",
       "2955     2500.0        0.0        0.0        0.0        0.0   \n",
       "2956     2377.0    40000.0        0.0        0.0        0.0   \n",
       "2957        0.0        0.0        0.0        0.0        0.0   \n",
       "2958     5000.0        0.0     5000.0     5000.0      470.0   \n",
       "2959        0.0        0.0        0.0        0.0        0.0   \n",
       "2960        0.0        0.0        0.0        0.0        0.0   \n",
       "2961     5880.0        0.0        0.0        0.0        0.0   \n",
       "2962      780.0      390.0      390.0      390.0      390.0   \n",
       "2963      390.0      390.0      390.0        0.0      780.0   \n",
       "2964      800.0     3184.0      390.0      390.0     6617.0   \n",
       "\n",
       "      default_payment_next_month  \n",
       "2955                           0  \n",
       "2956                           0  \n",
       "2957                           0  \n",
       "2958                           0  \n",
       "2959                           0  \n",
       "2960                           0  \n",
       "2961                           1  \n",
       "2962                           1  \n",
       "2963                           0  \n",
       "2964                           0  \n",
       "\n",
       "[10 rows x 24 columns]"
      ]
     },
     "execution_count": 3,
     "metadata": {},
     "output_type": "execute_result"
    }
   ],
   "source": [
    "# Menampilkan 10 baris terakhir dalam dataset\n",
    "df.tail(10)"
   ]
  },
  {
   "cell_type": "markdown",
   "metadata": {},
   "source": [
    "Menampilkan 10 baris terakhir"
   ]
  },
  {
   "cell_type": "code",
   "execution_count": 4,
   "metadata": {},
   "outputs": [
    {
     "name": "stdout",
     "output_type": "stream",
     "text": [
      "<class 'pandas.core.frame.DataFrame'>\n",
      "RangeIndex: 2965 entries, 0 to 2964\n",
      "Data columns (total 24 columns):\n",
      " #   Column                      Non-Null Count  Dtype  \n",
      "---  ------                      --------------  -----  \n",
      " 0   limit_balance               2965 non-null   float64\n",
      " 1   sex                         2965 non-null   int64  \n",
      " 2   education_level             2965 non-null   int64  \n",
      " 3   marital_status              2965 non-null   int64  \n",
      " 4   age                         2965 non-null   float64\n",
      " 5   pay_0                       2965 non-null   float64\n",
      " 6   pay_2                       2965 non-null   float64\n",
      " 7   pay_3                       2965 non-null   float64\n",
      " 8   pay_4                       2965 non-null   float64\n",
      " 9   pay_5                       2965 non-null   float64\n",
      " 10  pay_6                       2965 non-null   float64\n",
      " 11  bill_amt_1                  2965 non-null   float64\n",
      " 12  bill_amt_2                  2965 non-null   float64\n",
      " 13  bill_amt_3                  2965 non-null   float64\n",
      " 14  bill_amt_4                  2965 non-null   float64\n",
      " 15  bill_amt_5                  2965 non-null   float64\n",
      " 16  bill_amt_6                  2965 non-null   float64\n",
      " 17  pay_amt_1                   2965 non-null   float64\n",
      " 18  pay_amt_2                   2965 non-null   float64\n",
      " 19  pay_amt_3                   2965 non-null   float64\n",
      " 20  pay_amt_4                   2965 non-null   float64\n",
      " 21  pay_amt_5                   2965 non-null   float64\n",
      " 22  pay_amt_6                   2965 non-null   float64\n",
      " 23  default_payment_next_month  2965 non-null   int64  \n",
      "dtypes: float64(20), int64(4)\n",
      "memory usage: 556.1 KB\n"
     ]
    }
   ],
   "source": [
    "# Menampikan informasi pada dataset\n",
    "\n",
    "df.info()"
   ]
  },
  {
   "cell_type": "markdown",
   "metadata": {},
   "source": [
    "Menampilkan informasi di dalam dataset. Didapatkan informasi bahwa terdapat 2965 baris dan terdapat 2 tipe data dalam dataset seperti tipe data float yang berjumlah 20 dan tipe data integer yang berjumlah 4"
   ]
  },
  {
   "cell_type": "code",
   "execution_count": 5,
   "metadata": {},
   "outputs": [
    {
     "data": {
      "text/plain": [
       "limit_balance                   59\n",
       "sex                              2\n",
       "education_level                  7\n",
       "marital_status                   4\n",
       "age                             49\n",
       "pay_0                           11\n",
       "pay_2                           10\n",
       "pay_3                            9\n",
       "pay_4                           10\n",
       "pay_5                            9\n",
       "pay_6                            8\n",
       "bill_amt_1                    2643\n",
       "bill_amt_2                    2592\n",
       "bill_amt_3                    2549\n",
       "bill_amt_4                    2504\n",
       "bill_amt_5                    2482\n",
       "bill_amt_6                    2461\n",
       "pay_amt_1                     1415\n",
       "pay_amt_2                     1372\n",
       "pay_amt_3                     1302\n",
       "pay_amt_4                     1214\n",
       "pay_amt_5                     1194\n",
       "pay_amt_6                     1189\n",
       "default_payment_next_month       2\n",
       "dtype: int64"
      ]
     },
     "execution_count": 5,
     "metadata": {},
     "output_type": "execute_result"
    }
   ],
   "source": [
    "# Menampilkan unik value di setiap kolom\n",
    "\n",
    "df.nunique()"
   ]
  },
  {
   "cell_type": "markdown",
   "metadata": {},
   "source": [
    "Menampilkan seluurh nilai unik pada seluruh kolom."
   ]
  },
  {
   "cell_type": "code",
   "execution_count": 6,
   "metadata": {},
   "outputs": [
    {
     "data": {
      "text/plain": [
       "limit_balance                 0\n",
       "sex                           0\n",
       "education_level               0\n",
       "marital_status                0\n",
       "age                           0\n",
       "pay_0                         0\n",
       "pay_2                         0\n",
       "pay_3                         0\n",
       "pay_4                         0\n",
       "pay_5                         0\n",
       "pay_6                         0\n",
       "bill_amt_1                    0\n",
       "bill_amt_2                    0\n",
       "bill_amt_3                    0\n",
       "bill_amt_4                    0\n",
       "bill_amt_5                    0\n",
       "bill_amt_6                    0\n",
       "pay_amt_1                     0\n",
       "pay_amt_2                     0\n",
       "pay_amt_3                     0\n",
       "pay_amt_4                     0\n",
       "pay_amt_5                     0\n",
       "pay_amt_6                     0\n",
       "default_payment_next_month    0\n",
       "dtype: int64"
      ]
     },
     "execution_count": 6,
     "metadata": {},
     "output_type": "execute_result"
    }
   ],
   "source": [
    "# Melakukan pengecekan missing value di setiap kolom dataset\n",
    "\n",
    "df.isnull().sum()"
   ]
  },
  {
   "cell_type": "markdown",
   "metadata": {},
   "source": [
    "Menampilkan seluruh missing value pada setiap kolom. Didapatkan informasi bahwa tidak terdapat missing value pada setiap kolom"
   ]
  },
  {
   "cell_type": "code",
   "execution_count": 7,
   "metadata": {},
   "outputs": [
    {
     "data": {
      "text/plain": [
       "1"
      ]
     },
     "execution_count": 7,
     "metadata": {},
     "output_type": "execute_result"
    }
   ],
   "source": [
    "# Menampilkan dan mengecek data duplikat yang ada di dalam dataset\n",
    "\n",
    "df.duplicated().sum()"
   ]
  },
  {
   "cell_type": "markdown",
   "metadata": {},
   "source": [
    "Menampilkan informasi data yang terdapat duplikasi dan didapatkan terdapat 1 baris yang memiliki duplikasi."
   ]
  },
  {
   "cell_type": "code",
   "execution_count": 8,
   "metadata": {},
   "outputs": [
    {
     "name": "stdout",
     "output_type": "stream",
     "text": [
      "Duplikat baris: \n"
     ]
    },
    {
     "data": {
      "text/html": [
       "<div>\n",
       "<style scoped>\n",
       "    .dataframe tbody tr th:only-of-type {\n",
       "        vertical-align: middle;\n",
       "    }\n",
       "\n",
       "    .dataframe tbody tr th {\n",
       "        vertical-align: top;\n",
       "    }\n",
       "\n",
       "    .dataframe thead th {\n",
       "        text-align: right;\n",
       "    }\n",
       "</style>\n",
       "<table border=\"1\" class=\"dataframe\">\n",
       "  <thead>\n",
       "    <tr style=\"text-align: right;\">\n",
       "      <th></th>\n",
       "      <th>limit_balance</th>\n",
       "      <th>sex</th>\n",
       "      <th>education_level</th>\n",
       "      <th>marital_status</th>\n",
       "      <th>age</th>\n",
       "      <th>pay_0</th>\n",
       "      <th>pay_2</th>\n",
       "      <th>pay_3</th>\n",
       "      <th>pay_4</th>\n",
       "      <th>pay_5</th>\n",
       "      <th>...</th>\n",
       "      <th>bill_amt_4</th>\n",
       "      <th>bill_amt_5</th>\n",
       "      <th>bill_amt_6</th>\n",
       "      <th>pay_amt_1</th>\n",
       "      <th>pay_amt_2</th>\n",
       "      <th>pay_amt_3</th>\n",
       "      <th>pay_amt_4</th>\n",
       "      <th>pay_amt_5</th>\n",
       "      <th>pay_amt_6</th>\n",
       "      <th>default_payment_next_month</th>\n",
       "    </tr>\n",
       "  </thead>\n",
       "  <tbody>\n",
       "    <tr>\n",
       "      <th>2815</th>\n",
       "      <td>200000.0</td>\n",
       "      <td>2</td>\n",
       "      <td>1</td>\n",
       "      <td>1</td>\n",
       "      <td>34.0</td>\n",
       "      <td>1.0</td>\n",
       "      <td>-2.0</td>\n",
       "      <td>-2.0</td>\n",
       "      <td>-2.0</td>\n",
       "      <td>-2.0</td>\n",
       "      <td>...</td>\n",
       "      <td>0.0</td>\n",
       "      <td>0.0</td>\n",
       "      <td>0.0</td>\n",
       "      <td>0.0</td>\n",
       "      <td>0.0</td>\n",
       "      <td>0.0</td>\n",
       "      <td>0.0</td>\n",
       "      <td>0.0</td>\n",
       "      <td>0.0</td>\n",
       "      <td>0</td>\n",
       "    </tr>\n",
       "  </tbody>\n",
       "</table>\n",
       "<p>1 rows × 24 columns</p>\n",
       "</div>"
      ],
      "text/plain": [
       "      limit_balance  sex  education_level  marital_status   age  pay_0  pay_2  \\\n",
       "2815       200000.0    2                1               1  34.0    1.0   -2.0   \n",
       "\n",
       "      pay_3  pay_4  pay_5  ...  bill_amt_4  bill_amt_5  bill_amt_6  pay_amt_1  \\\n",
       "2815   -2.0   -2.0   -2.0  ...         0.0         0.0         0.0        0.0   \n",
       "\n",
       "      pay_amt_2  pay_amt_3  pay_amt_4  pay_amt_5  pay_amt_6  \\\n",
       "2815        0.0        0.0        0.0        0.0        0.0   \n",
       "\n",
       "      default_payment_next_month  \n",
       "2815                           0  \n",
       "\n",
       "[1 rows x 24 columns]"
      ]
     },
     "execution_count": 8,
     "metadata": {},
     "output_type": "execute_result"
    }
   ],
   "source": [
    "# Menampilkan nilai yang memiliki duplikasi\n",
    "duplicate = df[df.duplicated()]\n",
    "\n",
    "print(\"Duplikat baris: \")\n",
    "\n",
    "duplicate"
   ]
  },
  {
   "cell_type": "markdown",
   "metadata": {},
   "source": [
    "Menampilkan informasi data duplikasi dan didapatkan data yang terduplikasi terdapat pada index 2815 atau terdapat pada baris 2816. Oleh karena itu dapat dilakukan penghapusan duplikat data. "
   ]
  },
  {
   "cell_type": "code",
   "execution_count": 9,
   "metadata": {},
   "outputs": [],
   "source": [
    "# Melakukan drop data duplikat yang ada di dalam dataset\n",
    "\n",
    "df = df.drop_duplicates()"
   ]
  },
  {
   "cell_type": "markdown",
   "metadata": {},
   "source": [
    "Melakukan penghapusan data duplikasi dan memasukkan hasil penghapusan ke dalam dataset kembali"
   ]
  },
  {
   "cell_type": "code",
   "execution_count": 10,
   "metadata": {},
   "outputs": [
    {
     "name": "stdout",
     "output_type": "stream",
     "text": [
      "Duplikat baris: \n",
      "Empty DataFrame\n",
      "Columns: [limit_balance, sex, education_level, marital_status, age, pay_0, pay_2, pay_3, pay_4, pay_5, pay_6, bill_amt_1, bill_amt_2, bill_amt_3, bill_amt_4, bill_amt_5, bill_amt_6, pay_amt_1, pay_amt_2, pay_amt_3, pay_amt_4, pay_amt_5, pay_amt_6, default_payment_next_month]\n",
      "Index: []\n",
      "\n",
      "[0 rows x 24 columns]\n"
     ]
    }
   ],
   "source": [
    "# Menampilkan dan mengecek kembali data duplikat yang ada di dalam dataset\n",
    "\n",
    "print(\"Duplikat baris: \")\n",
    "print(df[df.duplicated()])"
   ]
  },
  {
   "cell_type": "markdown",
   "metadata": {},
   "source": [
    "Menampilkan informasi data duplikasi yang sudah di hapus."
   ]
  },
  {
   "cell_type": "code",
   "execution_count": 11,
   "metadata": {},
   "outputs": [
    {
     "name": "stdout",
     "output_type": "stream",
     "text": [
      "<class 'pandas.core.frame.DataFrame'>\n",
      "Index: 2964 entries, 0 to 2964\n",
      "Data columns (total 24 columns):\n",
      " #   Column                      Non-Null Count  Dtype  \n",
      "---  ------                      --------------  -----  \n",
      " 0   limit_balance               2964 non-null   float64\n",
      " 1   sex                         2964 non-null   int64  \n",
      " 2   education_level             2964 non-null   int64  \n",
      " 3   marital_status              2964 non-null   int64  \n",
      " 4   age                         2964 non-null   float64\n",
      " 5   pay_0                       2964 non-null   float64\n",
      " 6   pay_2                       2964 non-null   float64\n",
      " 7   pay_3                       2964 non-null   float64\n",
      " 8   pay_4                       2964 non-null   float64\n",
      " 9   pay_5                       2964 non-null   float64\n",
      " 10  pay_6                       2964 non-null   float64\n",
      " 11  bill_amt_1                  2964 non-null   float64\n",
      " 12  bill_amt_2                  2964 non-null   float64\n",
      " 13  bill_amt_3                  2964 non-null   float64\n",
      " 14  bill_amt_4                  2964 non-null   float64\n",
      " 15  bill_amt_5                  2964 non-null   float64\n",
      " 16  bill_amt_6                  2964 non-null   float64\n",
      " 17  pay_amt_1                   2964 non-null   float64\n",
      " 18  pay_amt_2                   2964 non-null   float64\n",
      " 19  pay_amt_3                   2964 non-null   float64\n",
      " 20  pay_amt_4                   2964 non-null   float64\n",
      " 21  pay_amt_5                   2964 non-null   float64\n",
      " 22  pay_amt_6                   2964 non-null   float64\n",
      " 23  default_payment_next_month  2964 non-null   int64  \n",
      "dtypes: float64(20), int64(4)\n",
      "memory usage: 578.9 KB\n"
     ]
    }
   ],
   "source": [
    "# Menampikan informasi pada dataset\n",
    "\n",
    "df.info()"
   ]
  },
  {
   "cell_type": "markdown",
   "metadata": {},
   "source": [
    "Menampilkan informasi data pada setiap kolom setelah dilakukan penghapusan data duplikasi dan didapatkan pengurangan 1 baris dataset yang sebelumnya terdapat 2965 baris menjadi 2964 baris."
   ]
  },
  {
   "cell_type": "code",
   "execution_count": 12,
   "metadata": {},
   "outputs": [
    {
     "data": {
      "text/plain": [
       "0       1\n",
       "1       0\n",
       "2       1\n",
       "3       0\n",
       "4       0\n",
       "       ..\n",
       "2960    0\n",
       "2961    1\n",
       "2962    1\n",
       "2963    0\n",
       "2964    0\n",
       "Name: default_payment_next_month, Length: 2964, dtype: int64"
      ]
     },
     "execution_count": 12,
     "metadata": {},
     "output_type": "execute_result"
    }
   ],
   "source": [
    "df['default_payment_next_month']"
   ]
  },
  {
   "cell_type": "markdown",
   "metadata": {},
   "source": [
    "Menampilkan jumlah value berdasarkan kategori pada kolom target yang akan dilakukan prediksi"
   ]
  },
  {
   "cell_type": "markdown",
   "metadata": {},
   "source": [
    "# Exploratory Data Analysis (EDA)"
   ]
  },
  {
   "cell_type": "code",
   "execution_count": 13,
   "metadata": {},
   "outputs": [
    {
     "data": {
      "text/html": [
       "<div>\n",
       "<style scoped>\n",
       "    .dataframe tbody tr th:only-of-type {\n",
       "        vertical-align: middle;\n",
       "    }\n",
       "\n",
       "    .dataframe tbody tr th {\n",
       "        vertical-align: top;\n",
       "    }\n",
       "\n",
       "    .dataframe thead th {\n",
       "        text-align: right;\n",
       "    }\n",
       "</style>\n",
       "<table border=\"1\" class=\"dataframe\">\n",
       "  <thead>\n",
       "    <tr style=\"text-align: right;\">\n",
       "      <th></th>\n",
       "      <th>limit_balance</th>\n",
       "      <th>sex</th>\n",
       "      <th>education_level</th>\n",
       "      <th>marital_status</th>\n",
       "      <th>age</th>\n",
       "      <th>pay_0</th>\n",
       "      <th>pay_2</th>\n",
       "      <th>pay_3</th>\n",
       "      <th>pay_4</th>\n",
       "      <th>pay_5</th>\n",
       "      <th>...</th>\n",
       "      <th>bill_amt_4</th>\n",
       "      <th>bill_amt_5</th>\n",
       "      <th>bill_amt_6</th>\n",
       "      <th>pay_amt_1</th>\n",
       "      <th>pay_amt_2</th>\n",
       "      <th>pay_amt_3</th>\n",
       "      <th>pay_amt_4</th>\n",
       "      <th>pay_amt_5</th>\n",
       "      <th>pay_amt_6</th>\n",
       "      <th>default_payment_next_month</th>\n",
       "    </tr>\n",
       "  </thead>\n",
       "  <tbody>\n",
       "    <tr>\n",
       "      <th>0</th>\n",
       "      <td>80000.0</td>\n",
       "      <td>1</td>\n",
       "      <td>6</td>\n",
       "      <td>1</td>\n",
       "      <td>54.0</td>\n",
       "      <td>0.0</td>\n",
       "      <td>0.0</td>\n",
       "      <td>0.0</td>\n",
       "      <td>0.0</td>\n",
       "      <td>0.0</td>\n",
       "      <td>...</td>\n",
       "      <td>29296.0</td>\n",
       "      <td>26210.0</td>\n",
       "      <td>17643.0</td>\n",
       "      <td>2545.0</td>\n",
       "      <td>2208.0</td>\n",
       "      <td>1336.0</td>\n",
       "      <td>2232.0</td>\n",
       "      <td>542.0</td>\n",
       "      <td>348.0</td>\n",
       "      <td>1</td>\n",
       "    </tr>\n",
       "    <tr>\n",
       "      <th>1</th>\n",
       "      <td>200000.0</td>\n",
       "      <td>1</td>\n",
       "      <td>4</td>\n",
       "      <td>1</td>\n",
       "      <td>49.0</td>\n",
       "      <td>0.0</td>\n",
       "      <td>0.0</td>\n",
       "      <td>0.0</td>\n",
       "      <td>0.0</td>\n",
       "      <td>0.0</td>\n",
       "      <td>...</td>\n",
       "      <td>50146.0</td>\n",
       "      <td>50235.0</td>\n",
       "      <td>48984.0</td>\n",
       "      <td>1689.0</td>\n",
       "      <td>2164.0</td>\n",
       "      <td>2500.0</td>\n",
       "      <td>3480.0</td>\n",
       "      <td>2500.0</td>\n",
       "      <td>3000.0</td>\n",
       "      <td>0</td>\n",
       "    </tr>\n",
       "    <tr>\n",
       "      <th>2</th>\n",
       "      <td>20000.0</td>\n",
       "      <td>2</td>\n",
       "      <td>6</td>\n",
       "      <td>2</td>\n",
       "      <td>22.0</td>\n",
       "      <td>0.0</td>\n",
       "      <td>0.0</td>\n",
       "      <td>0.0</td>\n",
       "      <td>0.0</td>\n",
       "      <td>0.0</td>\n",
       "      <td>...</td>\n",
       "      <td>1434.0</td>\n",
       "      <td>500.0</td>\n",
       "      <td>0.0</td>\n",
       "      <td>4641.0</td>\n",
       "      <td>1019.0</td>\n",
       "      <td>900.0</td>\n",
       "      <td>0.0</td>\n",
       "      <td>1500.0</td>\n",
       "      <td>0.0</td>\n",
       "      <td>1</td>\n",
       "    </tr>\n",
       "    <tr>\n",
       "      <th>3</th>\n",
       "      <td>260000.0</td>\n",
       "      <td>2</td>\n",
       "      <td>4</td>\n",
       "      <td>2</td>\n",
       "      <td>33.0</td>\n",
       "      <td>0.0</td>\n",
       "      <td>0.0</td>\n",
       "      <td>0.0</td>\n",
       "      <td>0.0</td>\n",
       "      <td>0.0</td>\n",
       "      <td>...</td>\n",
       "      <td>27821.0</td>\n",
       "      <td>30767.0</td>\n",
       "      <td>29890.0</td>\n",
       "      <td>5000.0</td>\n",
       "      <td>5000.0</td>\n",
       "      <td>1137.0</td>\n",
       "      <td>5000.0</td>\n",
       "      <td>1085.0</td>\n",
       "      <td>5000.0</td>\n",
       "      <td>0</td>\n",
       "    </tr>\n",
       "    <tr>\n",
       "      <th>4</th>\n",
       "      <td>150000.0</td>\n",
       "      <td>1</td>\n",
       "      <td>4</td>\n",
       "      <td>2</td>\n",
       "      <td>32.0</td>\n",
       "      <td>0.0</td>\n",
       "      <td>0.0</td>\n",
       "      <td>0.0</td>\n",
       "      <td>-1.0</td>\n",
       "      <td>0.0</td>\n",
       "      <td>...</td>\n",
       "      <td>150464.0</td>\n",
       "      <td>143375.0</td>\n",
       "      <td>146411.0</td>\n",
       "      <td>4019.0</td>\n",
       "      <td>146896.0</td>\n",
       "      <td>157436.0</td>\n",
       "      <td>4600.0</td>\n",
       "      <td>4709.0</td>\n",
       "      <td>5600.0</td>\n",
       "      <td>0</td>\n",
       "    </tr>\n",
       "    <tr>\n",
       "      <th>...</th>\n",
       "      <td>...</td>\n",
       "      <td>...</td>\n",
       "      <td>...</td>\n",
       "      <td>...</td>\n",
       "      <td>...</td>\n",
       "      <td>...</td>\n",
       "      <td>...</td>\n",
       "      <td>...</td>\n",
       "      <td>...</td>\n",
       "      <td>...</td>\n",
       "      <td>...</td>\n",
       "      <td>...</td>\n",
       "      <td>...</td>\n",
       "      <td>...</td>\n",
       "      <td>...</td>\n",
       "      <td>...</td>\n",
       "      <td>...</td>\n",
       "      <td>...</td>\n",
       "      <td>...</td>\n",
       "      <td>...</td>\n",
       "      <td>...</td>\n",
       "    </tr>\n",
       "    <tr>\n",
       "      <th>2960</th>\n",
       "      <td>80000.0</td>\n",
       "      <td>2</td>\n",
       "      <td>3</td>\n",
       "      <td>2</td>\n",
       "      <td>28.0</td>\n",
       "      <td>-1.0</td>\n",
       "      <td>-1.0</td>\n",
       "      <td>-1.0</td>\n",
       "      <td>-2.0</td>\n",
       "      <td>-2.0</td>\n",
       "      <td>...</td>\n",
       "      <td>0.0</td>\n",
       "      <td>0.0</td>\n",
       "      <td>0.0</td>\n",
       "      <td>2800.0</td>\n",
       "      <td>0.0</td>\n",
       "      <td>0.0</td>\n",
       "      <td>0.0</td>\n",
       "      <td>0.0</td>\n",
       "      <td>0.0</td>\n",
       "      <td>0</td>\n",
       "    </tr>\n",
       "    <tr>\n",
       "      <th>2961</th>\n",
       "      <td>50000.0</td>\n",
       "      <td>2</td>\n",
       "      <td>3</td>\n",
       "      <td>1</td>\n",
       "      <td>51.0</td>\n",
       "      <td>-1.0</td>\n",
       "      <td>-1.0</td>\n",
       "      <td>-1.0</td>\n",
       "      <td>-1.0</td>\n",
       "      <td>-2.0</td>\n",
       "      <td>...</td>\n",
       "      <td>0.0</td>\n",
       "      <td>0.0</td>\n",
       "      <td>0.0</td>\n",
       "      <td>300.0</td>\n",
       "      <td>5880.0</td>\n",
       "      <td>0.0</td>\n",
       "      <td>0.0</td>\n",
       "      <td>0.0</td>\n",
       "      <td>0.0</td>\n",
       "      <td>1</td>\n",
       "    </tr>\n",
       "    <tr>\n",
       "      <th>2962</th>\n",
       "      <td>450000.0</td>\n",
       "      <td>2</td>\n",
       "      <td>2</td>\n",
       "      <td>1</td>\n",
       "      <td>38.0</td>\n",
       "      <td>-2.0</td>\n",
       "      <td>-2.0</td>\n",
       "      <td>-2.0</td>\n",
       "      <td>-2.0</td>\n",
       "      <td>-2.0</td>\n",
       "      <td>...</td>\n",
       "      <td>390.0</td>\n",
       "      <td>390.0</td>\n",
       "      <td>390.0</td>\n",
       "      <td>390.0</td>\n",
       "      <td>780.0</td>\n",
       "      <td>390.0</td>\n",
       "      <td>390.0</td>\n",
       "      <td>390.0</td>\n",
       "      <td>390.0</td>\n",
       "      <td>1</td>\n",
       "    </tr>\n",
       "    <tr>\n",
       "      <th>2963</th>\n",
       "      <td>50000.0</td>\n",
       "      <td>2</td>\n",
       "      <td>2</td>\n",
       "      <td>1</td>\n",
       "      <td>44.0</td>\n",
       "      <td>-2.0</td>\n",
       "      <td>-2.0</td>\n",
       "      <td>-2.0</td>\n",
       "      <td>-2.0</td>\n",
       "      <td>-2.0</td>\n",
       "      <td>...</td>\n",
       "      <td>390.0</td>\n",
       "      <td>390.0</td>\n",
       "      <td>0.0</td>\n",
       "      <td>390.0</td>\n",
       "      <td>390.0</td>\n",
       "      <td>390.0</td>\n",
       "      <td>390.0</td>\n",
       "      <td>0.0</td>\n",
       "      <td>780.0</td>\n",
       "      <td>0</td>\n",
       "    </tr>\n",
       "    <tr>\n",
       "      <th>2964</th>\n",
       "      <td>290000.0</td>\n",
       "      <td>2</td>\n",
       "      <td>2</td>\n",
       "      <td>1</td>\n",
       "      <td>39.0</td>\n",
       "      <td>1.0</td>\n",
       "      <td>-2.0</td>\n",
       "      <td>-2.0</td>\n",
       "      <td>-2.0</td>\n",
       "      <td>-2.0</td>\n",
       "      <td>...</td>\n",
       "      <td>3184.0</td>\n",
       "      <td>390.0</td>\n",
       "      <td>390.0</td>\n",
       "      <td>10000.0</td>\n",
       "      <td>800.0</td>\n",
       "      <td>3184.0</td>\n",
       "      <td>390.0</td>\n",
       "      <td>390.0</td>\n",
       "      <td>6617.0</td>\n",
       "      <td>0</td>\n",
       "    </tr>\n",
       "  </tbody>\n",
       "</table>\n",
       "<p>2964 rows × 24 columns</p>\n",
       "</div>"
      ],
      "text/plain": [
       "      limit_balance  sex  education_level  marital_status   age  pay_0  pay_2  \\\n",
       "0           80000.0    1                6               1  54.0    0.0    0.0   \n",
       "1          200000.0    1                4               1  49.0    0.0    0.0   \n",
       "2           20000.0    2                6               2  22.0    0.0    0.0   \n",
       "3          260000.0    2                4               2  33.0    0.0    0.0   \n",
       "4          150000.0    1                4               2  32.0    0.0    0.0   \n",
       "...             ...  ...              ...             ...   ...    ...    ...   \n",
       "2960        80000.0    2                3               2  28.0   -1.0   -1.0   \n",
       "2961        50000.0    2                3               1  51.0   -1.0   -1.0   \n",
       "2962       450000.0    2                2               1  38.0   -2.0   -2.0   \n",
       "2963        50000.0    2                2               1  44.0   -2.0   -2.0   \n",
       "2964       290000.0    2                2               1  39.0    1.0   -2.0   \n",
       "\n",
       "      pay_3  pay_4  pay_5  ...  bill_amt_4  bill_amt_5  bill_amt_6  pay_amt_1  \\\n",
       "0       0.0    0.0    0.0  ...     29296.0     26210.0     17643.0     2545.0   \n",
       "1       0.0    0.0    0.0  ...     50146.0     50235.0     48984.0     1689.0   \n",
       "2       0.0    0.0    0.0  ...      1434.0       500.0         0.0     4641.0   \n",
       "3       0.0    0.0    0.0  ...     27821.0     30767.0     29890.0     5000.0   \n",
       "4       0.0   -1.0    0.0  ...    150464.0    143375.0    146411.0     4019.0   \n",
       "...     ...    ...    ...  ...         ...         ...         ...        ...   \n",
       "2960   -1.0   -2.0   -2.0  ...         0.0         0.0         0.0     2800.0   \n",
       "2961   -1.0   -1.0   -2.0  ...         0.0         0.0         0.0      300.0   \n",
       "2962   -2.0   -2.0   -2.0  ...       390.0       390.0       390.0      390.0   \n",
       "2963   -2.0   -2.0   -2.0  ...       390.0       390.0         0.0      390.0   \n",
       "2964   -2.0   -2.0   -2.0  ...      3184.0       390.0       390.0    10000.0   \n",
       "\n",
       "      pay_amt_2  pay_amt_3  pay_amt_4  pay_amt_5  pay_amt_6  \\\n",
       "0        2208.0     1336.0     2232.0      542.0      348.0   \n",
       "1        2164.0     2500.0     3480.0     2500.0     3000.0   \n",
       "2        1019.0      900.0        0.0     1500.0        0.0   \n",
       "3        5000.0     1137.0     5000.0     1085.0     5000.0   \n",
       "4      146896.0   157436.0     4600.0     4709.0     5600.0   \n",
       "...         ...        ...        ...        ...        ...   \n",
       "2960        0.0        0.0        0.0        0.0        0.0   \n",
       "2961     5880.0        0.0        0.0        0.0        0.0   \n",
       "2962      780.0      390.0      390.0      390.0      390.0   \n",
       "2963      390.0      390.0      390.0        0.0      780.0   \n",
       "2964      800.0     3184.0      390.0      390.0     6617.0   \n",
       "\n",
       "      default_payment_next_month  \n",
       "0                              1  \n",
       "1                              0  \n",
       "2                              1  \n",
       "3                              0  \n",
       "4                              0  \n",
       "...                          ...  \n",
       "2960                           0  \n",
       "2961                           1  \n",
       "2962                           1  \n",
       "2963                           0  \n",
       "2964                           0  \n",
       "\n",
       "[2964 rows x 24 columns]"
      ]
     },
     "execution_count": 13,
     "metadata": {},
     "output_type": "execute_result"
    }
   ],
   "source": [
    "# Membuat copy pada dataset untuk berfokus pada EDA\n",
    "\n",
    "df_eda = df.copy()\n",
    "\n",
    "df_eda"
   ]
  },
  {
   "cell_type": "markdown",
   "metadata": {},
   "source": [
    "Membuat data copy agar tidak merubah data pada proses Feature Engineering"
   ]
  },
  {
   "cell_type": "markdown",
   "metadata": {},
   "source": [
    "## Jumlah Default pada dataset"
   ]
  },
  {
   "cell_type": "code",
   "execution_count": 14,
   "metadata": {},
   "outputs": [
    {
     "name": "stdout",
     "output_type": "stream",
     "text": [
      "Persentase default pada dataset : 21.423751686909583 %\n"
     ]
    },
    {
     "data": {
      "text/plain": [
       "[]"
      ]
     },
     "execution_count": 14,
     "metadata": {},
     "output_type": "execute_result"
    },
    {
     "data": {
      "image/png": "[encoded data removed]",
      "text/plain": [
       "<Figure size 640x480 with 1 Axes>"
      ]
     },
     "metadata": {},
     "output_type": "display_data"
    }
   ],
   "source": [
    "# Membuat grafik jumlah default menggunakan pie chart\n",
    "persentase_default = df_eda.default_payment_next_month.sum() / len(df_eda.default_payment_next_month)\n",
    "print(f'Persentase default pada dataset : {persentase_default*100} %')\n",
    "df_eda['default_payment_next_month'].value_counts().plot(kind='pie',explode=[0.1,0],autopct=\"%1.1f%%\")\n",
    "plt.title('Jumlah Default')\n",
    "plt.plot()"
   ]
  },
  {
   "cell_type": "markdown",
   "metadata": {},
   "source": [
    "Berdasarkan informasi diatas bahwa default_payment_next_month yang dengan kategori 0 atau 'No' mendominasi pada kolom default_payment_next_month dengan persentase sebesar 78.6 persen dan kategori 1 atau 'Yes' sebesar 21.4 persen"
   ]
  },
  {
   "cell_type": "markdown",
   "metadata": {},
   "source": [
    "## Membandingkan status pendidikan pada setiap default payment berdasarkan umur"
   ]
  },
  {
   "cell_type": "code",
   "execution_count": 15,
   "metadata": {},
   "outputs": [
    {
     "data": {
      "image/png": "[encoded data removed]",
      "text/plain": [
       "<Figure size 900x600 with 6 Axes>"
      ]
     },
     "metadata": {},
     "output_type": "display_data"
    }
   ],
   "source": [
    "# Membuat mapping dari nilai lama ke nilai baru\n",
    "status_pendidikan = {1: 'Pasca Sarjana', 2: 'Universitas', 3:'SMA'}\n",
    "\n",
    "# Menggunakan map untuk mengubah label pada kolom 'education_level'\n",
    "df_eda['education_level'] = df_eda['education_level'].map(status_pendidikan)\n",
    "\n",
    "# Membuat histogram pada default_payment_next_month\n",
    "education_level_default_pay_age = sns.set(rc={'figure.figsize':(10,8)})\n",
    "education_level_default_pay_age = sns.FacetGrid(df_eda, row='default_payment_next_month', col='education_level')\n",
    "education_level_default_pay_age = education_level_default_pay_age.set_titles(col_template=\"{col_name}\", row_template=\"{row_name}\")\n",
    "education_level_default_pay_age = education_level_default_pay_age.map(plt.hist, 'age')\n",
    "plt.show()"
   ]
  },
  {
   "cell_type": "markdown",
   "metadata": {},
   "source": [
    "Berdasarkan informasi diatas, didapatkan bahwa status pendidikan Universitas pada kelompok umur 20-40 tahun memiliki kecenderungan gagal bayar yang sangat tinggi dibandingkan pasca sarjana dan SMA."
   ]
  },
  {
   "cell_type": "markdown",
   "metadata": {},
   "source": [
    "## Membandingkan Gender pada setiap default payment berdasarkan umur"
   ]
  },
  {
   "cell_type": "code",
   "execution_count": 16,
   "metadata": {},
   "outputs": [
    {
     "data": {
      "image/png": "[encoded data removed]",
      "text/plain": [
       "<Figure size 600x600 with 4 Axes>"
      ]
     },
     "metadata": {},
     "output_type": "display_data"
    }
   ],
   "source": [
    "# Membuat mapping dari nilai lama ke nilai baru\n",
    "jenis_kelamin = {1: 'male', 2: 'female'}\n",
    "\n",
    "# Menggunakan map untuk mengubah label pada kolom 'sex'\n",
    "df_eda['sex'] = df_eda['sex'].map(jenis_kelamin)\n",
    "\n",
    "# Membuat histogram pada default_payment_next_month\n",
    "sex_default_pay_age = sns.set(rc={'figure.figsize':(10,8)})\n",
    "sex_default_pay_age = sns.FacetGrid(df_eda, row='default_payment_next_month', col='sex')\n",
    "sex_default_pay_age = sex_default_pay_age.set_titles(col_template=\"{col_name}\", row_template=\"{row_name}\")\n",
    "sex_default_pay_age = sex_default_pay_age.map(plt.hist, 'age')\n",
    "plt.show()"
   ]
  },
  {
   "cell_type": "markdown",
   "metadata": {},
   "source": [
    "Berdasarkan informasi diatas, didapatkan bahwa perempuan pada kelompok umur 20-30 tahun memiliki kecenderungan gagal bayar yang sangat tinggi dibandingkan laki-laki pada semua kelompok umur."
   ]
  },
  {
   "cell_type": "markdown",
   "metadata": {},
   "source": [
    "## Membandingkan status pernikahan pada setiap default payment berdasarkan umur"
   ]
  },
  {
   "cell_type": "code",
   "execution_count": 17,
   "metadata": {},
   "outputs": [
    {
     "data": {
      "image/png": "[encoded data removed]",
      "text/plain": [
       "<Figure size 900x600 with 6 Axes>"
      ]
     },
     "metadata": {},
     "output_type": "display_data"
    }
   ],
   "source": [
    "# Membuat mapping dari nilai lama ke nilai baru\n",
    "status_pernikahan = {1: 'menikah', 2: 'single', 3:'lainnya'}\n",
    "\n",
    "# Menggunakan map untuk mengubah label pada kolom 'marital_status'\n",
    "df_eda['marital_status'] = df_eda['marital_status'].map(status_pernikahan)\n",
    "\n",
    "# Membuat histogram pada default_payment_next_month\n",
    "marital_status_default_pay_age = sns.set(rc={'figure.figsize':(10,8)})\n",
    "marital_status_default_pay_age = sns.FacetGrid(df_eda, row='default_payment_next_month', col='marital_status')\n",
    "marital_status_default_pay_age = marital_status_default_pay_age.set_titles(col_template=\"{col_name}\", row_template=\"{row_name}\")\n",
    "marital_status_default_pay_age = marital_status_default_pay_age.map(plt.hist, 'age')\n",
    "plt.show()"
   ]
  },
  {
   "cell_type": "markdown",
   "metadata": {},
   "source": [
    "Berdasarkan informasi diatas, didapatkan bahwa bahwa orang yang sudah menikah antara kelompok usia 30 dan 50 tahun dan klien yang belum menikah berusia 20-30 tahun cenderung mengalami gagal bayar, sedangkan klien yang belum menikah memiliki kemungkinan lebih tinggi untuk gagal bayar."
   ]
  },
  {
   "cell_type": "markdown",
   "metadata": {},
   "source": [
    "## Grafik status pernikahan dan status pendidikan berdasarkan default_payment_next_month"
   ]
  },
  {
   "cell_type": "code",
   "execution_count": 18,
   "metadata": {},
   "outputs": [
    {
     "data": {
      "image/png": "[encoded data removed]",
      "text/plain": [
       "<Figure size 1200x400 with 1 Axes>"
      ]
     },
     "metadata": {},
     "output_type": "display_data"
    }
   ],
   "source": [
    "plt.figure(figsize=(12,4))\n",
    "\n",
    "ax = sns.barplot(x = \"marital_status\", y = \"default_payment_next_month\", hue = \"education_level\", data = df_eda, palette = 'rocket', errorbar = None)\n",
    "\n",
    "plt.ylabel(\"% of Default\", fontsize= 12)\n",
    "plt.ylim(0,0.5)\n",
    "plt.xticks([0,1,2],['Married', 'Single','Others'], fontsize = 12)\n",
    "plt.legend(['Pasca Sarjana', 'Universitas', 'SMA'], title = 'Status Pendidikan', fontsize = 8)\n",
    "\n",
    "for p in ax.patches:\n",
    "    ax.annotate(\"%.2f\" %(p.get_height()), (p.get_x()+0.06, p.get_height()+0.03),fontsize=12)\n",
    "\n",
    "plt.show()"
   ]
  },
  {
   "cell_type": "markdown",
   "metadata": {},
   "source": [
    "Berdasarkan visualisasi diatas, didapatkan bahwa pada status pernikahan menikah dan others dengan status pendidikan Universitas cenderung meningkatkan kemungkinan menjadi defaulter atau gagal bayar pada bulan depan. Sedangkan pada status pernikahan single dengan status pendidikan SMA cenderung meningkatkan kemungkinan menjadi defaulter atau gagal bayar pada bulan depan. "
   ]
  },
  {
   "cell_type": "markdown",
   "metadata": {},
   "source": [
    "## Grafik gender dan status pendidikan berdasarkan default_payment_next_month"
   ]
  },
  {
   "cell_type": "code",
   "execution_count": 19,
   "metadata": {},
   "outputs": [
    {
     "data": {
      "image/png": "[encoded data removed]",
      "text/plain": [
       "<Figure size 1200x400 with 1 Axes>"
      ]
     },
     "metadata": {},
     "output_type": "display_data"
    }
   ],
   "source": [
    "plt.figure(figsize=(12,4))\n",
    "\n",
    "ax = sns.barplot(x = \"sex\", y = \"default_payment_next_month\", hue = \"education_level\", data = df_eda, palette = 'rocket', errorbar = None)\n",
    "\n",
    "plt.ylabel(\"% of Default\", fontsize= 12)\n",
    "plt.ylim(0,0.5)\n",
    "plt.xticks([0,1],['Male', 'Female'], fontsize = 12)\n",
    "plt.legend(['Pasca Sarjana', 'Universitas', 'SMA'], title = 'Status Pendidikan', fontsize = 8)\n",
    "\n",
    "for p in ax.patches:\n",
    "    ax.annotate(\"%.2f\" %(p.get_height()), (p.get_x()+0.06, p.get_height()+0.03),fontsize=12)\n",
    "\n",
    "plt.show()"
   ]
  },
  {
   "cell_type": "markdown",
   "metadata": {},
   "source": [
    "Berdasarkan visualisasi diatas, didapatkan bahwa pada gender male dengan status pendidikan Universitas cenderung meningkatkan kemungkinan menjadi defaulter atau gagal bayar pada bulan depan. Sedangkan pada gender dengan status pendidikan Universitas cenderung meningkatkan kemungkinan menjadi defaulter atau gagal bayar pada bulan depan. "
   ]
  },
  {
   "cell_type": "markdown",
   "metadata": {},
   "source": [
    "# Feature Engineering"
   ]
  },
  {
   "cell_type": "markdown",
   "metadata": {},
   "source": [
    "## Split data X dan y"
   ]
  },
  {
   "cell_type": "code",
   "execution_count": 20,
   "metadata": {},
   "outputs": [
    {
     "data": {
      "text/html": [
       "<div>\n",
       "<style scoped>\n",
       "    .dataframe tbody tr th:only-of-type {\n",
       "        vertical-align: middle;\n",
       "    }\n",
       "\n",
       "    .dataframe tbody tr th {\n",
       "        vertical-align: top;\n",
       "    }\n",
       "\n",
       "    .dataframe thead th {\n",
       "        text-align: right;\n",
       "    }\n",
       "</style>\n",
       "<table border=\"1\" class=\"dataframe\">\n",
       "  <thead>\n",
       "    <tr style=\"text-align: right;\">\n",
       "      <th></th>\n",
       "      <th>limit_balance</th>\n",
       "      <th>sex</th>\n",
       "      <th>education_level</th>\n",
       "      <th>marital_status</th>\n",
       "      <th>age</th>\n",
       "      <th>pay_0</th>\n",
       "      <th>pay_2</th>\n",
       "      <th>pay_3</th>\n",
       "      <th>pay_4</th>\n",
       "      <th>pay_5</th>\n",
       "      <th>...</th>\n",
       "      <th>bill_amt_3</th>\n",
       "      <th>bill_amt_4</th>\n",
       "      <th>bill_amt_5</th>\n",
       "      <th>bill_amt_6</th>\n",
       "      <th>pay_amt_1</th>\n",
       "      <th>pay_amt_2</th>\n",
       "      <th>pay_amt_3</th>\n",
       "      <th>pay_amt_4</th>\n",
       "      <th>pay_amt_5</th>\n",
       "      <th>pay_amt_6</th>\n",
       "    </tr>\n",
       "  </thead>\n",
       "  <tbody>\n",
       "    <tr>\n",
       "      <th>0</th>\n",
       "      <td>80000.0</td>\n",
       "      <td>1</td>\n",
       "      <td>6</td>\n",
       "      <td>1</td>\n",
       "      <td>54.0</td>\n",
       "      <td>0.0</td>\n",
       "      <td>0.0</td>\n",
       "      <td>0.0</td>\n",
       "      <td>0.0</td>\n",
       "      <td>0.0</td>\n",
       "      <td>...</td>\n",
       "      <td>62290.0</td>\n",
       "      <td>29296.0</td>\n",
       "      <td>26210.0</td>\n",
       "      <td>17643.0</td>\n",
       "      <td>2545.0</td>\n",
       "      <td>2208.0</td>\n",
       "      <td>1336.0</td>\n",
       "      <td>2232.0</td>\n",
       "      <td>542.0</td>\n",
       "      <td>348.0</td>\n",
       "    </tr>\n",
       "    <tr>\n",
       "      <th>1</th>\n",
       "      <td>200000.0</td>\n",
       "      <td>1</td>\n",
       "      <td>4</td>\n",
       "      <td>1</td>\n",
       "      <td>49.0</td>\n",
       "      <td>0.0</td>\n",
       "      <td>0.0</td>\n",
       "      <td>0.0</td>\n",
       "      <td>0.0</td>\n",
       "      <td>0.0</td>\n",
       "      <td>...</td>\n",
       "      <td>50942.0</td>\n",
       "      <td>50146.0</td>\n",
       "      <td>50235.0</td>\n",
       "      <td>48984.0</td>\n",
       "      <td>1689.0</td>\n",
       "      <td>2164.0</td>\n",
       "      <td>2500.0</td>\n",
       "      <td>3480.0</td>\n",
       "      <td>2500.0</td>\n",
       "      <td>3000.0</td>\n",
       "    </tr>\n",
       "    <tr>\n",
       "      <th>2</th>\n",
       "      <td>20000.0</td>\n",
       "      <td>2</td>\n",
       "      <td>6</td>\n",
       "      <td>2</td>\n",
       "      <td>22.0</td>\n",
       "      <td>0.0</td>\n",
       "      <td>0.0</td>\n",
       "      <td>0.0</td>\n",
       "      <td>0.0</td>\n",
       "      <td>0.0</td>\n",
       "      <td>...</td>\n",
       "      <td>15535.0</td>\n",
       "      <td>1434.0</td>\n",
       "      <td>500.0</td>\n",
       "      <td>0.0</td>\n",
       "      <td>4641.0</td>\n",
       "      <td>1019.0</td>\n",
       "      <td>900.0</td>\n",
       "      <td>0.0</td>\n",
       "      <td>1500.0</td>\n",
       "      <td>0.0</td>\n",
       "    </tr>\n",
       "    <tr>\n",
       "      <th>3</th>\n",
       "      <td>260000.0</td>\n",
       "      <td>2</td>\n",
       "      <td>4</td>\n",
       "      <td>2</td>\n",
       "      <td>33.0</td>\n",
       "      <td>0.0</td>\n",
       "      <td>0.0</td>\n",
       "      <td>0.0</td>\n",
       "      <td>0.0</td>\n",
       "      <td>0.0</td>\n",
       "      <td>...</td>\n",
       "      <td>27086.0</td>\n",
       "      <td>27821.0</td>\n",
       "      <td>30767.0</td>\n",
       "      <td>29890.0</td>\n",
       "      <td>5000.0</td>\n",
       "      <td>5000.0</td>\n",
       "      <td>1137.0</td>\n",
       "      <td>5000.0</td>\n",
       "      <td>1085.0</td>\n",
       "      <td>5000.0</td>\n",
       "    </tr>\n",
       "    <tr>\n",
       "      <th>4</th>\n",
       "      <td>150000.0</td>\n",
       "      <td>1</td>\n",
       "      <td>4</td>\n",
       "      <td>2</td>\n",
       "      <td>32.0</td>\n",
       "      <td>0.0</td>\n",
       "      <td>0.0</td>\n",
       "      <td>0.0</td>\n",
       "      <td>-1.0</td>\n",
       "      <td>0.0</td>\n",
       "      <td>...</td>\n",
       "      <td>161192.0</td>\n",
       "      <td>150464.0</td>\n",
       "      <td>143375.0</td>\n",
       "      <td>146411.0</td>\n",
       "      <td>4019.0</td>\n",
       "      <td>146896.0</td>\n",
       "      <td>157436.0</td>\n",
       "      <td>4600.0</td>\n",
       "      <td>4709.0</td>\n",
       "      <td>5600.0</td>\n",
       "    </tr>\n",
       "    <tr>\n",
       "      <th>5</th>\n",
       "      <td>300000.0</td>\n",
       "      <td>2</td>\n",
       "      <td>4</td>\n",
       "      <td>2</td>\n",
       "      <td>32.0</td>\n",
       "      <td>0.0</td>\n",
       "      <td>0.0</td>\n",
       "      <td>0.0</td>\n",
       "      <td>0.0</td>\n",
       "      <td>0.0</td>\n",
       "      <td>...</td>\n",
       "      <td>64747.0</td>\n",
       "      <td>65150.0</td>\n",
       "      <td>-450.0</td>\n",
       "      <td>700.0</td>\n",
       "      <td>15235.0</td>\n",
       "      <td>1491.0</td>\n",
       "      <td>1303.0</td>\n",
       "      <td>0.0</td>\n",
       "      <td>2000.0</td>\n",
       "      <td>1400.0</td>\n",
       "    </tr>\n",
       "    <tr>\n",
       "      <th>6</th>\n",
       "      <td>130000.0</td>\n",
       "      <td>1</td>\n",
       "      <td>1</td>\n",
       "      <td>1</td>\n",
       "      <td>45.0</td>\n",
       "      <td>0.0</td>\n",
       "      <td>0.0</td>\n",
       "      <td>0.0</td>\n",
       "      <td>0.0</td>\n",
       "      <td>0.0</td>\n",
       "      <td>...</td>\n",
       "      <td>61156.0</td>\n",
       "      <td>62377.0</td>\n",
       "      <td>63832.0</td>\n",
       "      <td>65099.0</td>\n",
       "      <td>2886.0</td>\n",
       "      <td>2908.0</td>\n",
       "      <td>2129.0</td>\n",
       "      <td>2354.0</td>\n",
       "      <td>2366.0</td>\n",
       "      <td>2291.0</td>\n",
       "    </tr>\n",
       "    <tr>\n",
       "      <th>7</th>\n",
       "      <td>200000.0</td>\n",
       "      <td>1</td>\n",
       "      <td>1</td>\n",
       "      <td>1</td>\n",
       "      <td>58.0</td>\n",
       "      <td>0.0</td>\n",
       "      <td>0.0</td>\n",
       "      <td>0.0</td>\n",
       "      <td>0.0</td>\n",
       "      <td>0.0</td>\n",
       "      <td>...</td>\n",
       "      <td>122214.0</td>\n",
       "      <td>124647.0</td>\n",
       "      <td>126921.0</td>\n",
       "      <td>129167.0</td>\n",
       "      <td>7822.0</td>\n",
       "      <td>4417.0</td>\n",
       "      <td>4446.0</td>\n",
       "      <td>4597.0</td>\n",
       "      <td>4677.0</td>\n",
       "      <td>4698.0</td>\n",
       "    </tr>\n",
       "    <tr>\n",
       "      <th>8</th>\n",
       "      <td>500000.0</td>\n",
       "      <td>1</td>\n",
       "      <td>1</td>\n",
       "      <td>1</td>\n",
       "      <td>39.0</td>\n",
       "      <td>0.0</td>\n",
       "      <td>0.0</td>\n",
       "      <td>0.0</td>\n",
       "      <td>0.0</td>\n",
       "      <td>0.0</td>\n",
       "      <td>...</td>\n",
       "      <td>171106.0</td>\n",
       "      <td>174500.0</td>\n",
       "      <td>137406.0</td>\n",
       "      <td>204975.0</td>\n",
       "      <td>54209.0</td>\n",
       "      <td>4607.0</td>\n",
       "      <td>4603.0</td>\n",
       "      <td>5224.0</td>\n",
       "      <td>207440.0</td>\n",
       "      <td>7509.0</td>\n",
       "    </tr>\n",
       "    <tr>\n",
       "      <th>9</th>\n",
       "      <td>230000.0</td>\n",
       "      <td>1</td>\n",
       "      <td>1</td>\n",
       "      <td>1</td>\n",
       "      <td>48.0</td>\n",
       "      <td>0.0</td>\n",
       "      <td>0.0</td>\n",
       "      <td>0.0</td>\n",
       "      <td>0.0</td>\n",
       "      <td>0.0</td>\n",
       "      <td>...</td>\n",
       "      <td>165107.0</td>\n",
       "      <td>105508.0</td>\n",
       "      <td>108101.0</td>\n",
       "      <td>110094.0</td>\n",
       "      <td>7000.0</td>\n",
       "      <td>6607.0</td>\n",
       "      <td>3773.0</td>\n",
       "      <td>4290.0</td>\n",
       "      <td>4164.0</td>\n",
       "      <td>2000.0</td>\n",
       "    </tr>\n",
       "  </tbody>\n",
       "</table>\n",
       "<p>10 rows × 23 columns</p>\n",
       "</div>"
      ],
      "text/plain": [
       "   limit_balance  sex  education_level  marital_status   age  pay_0  pay_2  \\\n",
       "0        80000.0    1                6               1  54.0    0.0    0.0   \n",
       "1       200000.0    1                4               1  49.0    0.0    0.0   \n",
       "2        20000.0    2                6               2  22.0    0.0    0.0   \n",
       "3       260000.0    2                4               2  33.0    0.0    0.0   \n",
       "4       150000.0    1                4               2  32.0    0.0    0.0   \n",
       "5       300000.0    2                4               2  32.0    0.0    0.0   \n",
       "6       130000.0    1                1               1  45.0    0.0    0.0   \n",
       "7       200000.0    1                1               1  58.0    0.0    0.0   \n",
       "8       500000.0    1                1               1  39.0    0.0    0.0   \n",
       "9       230000.0    1                1               1  48.0    0.0    0.0   \n",
       "\n",
       "   pay_3  pay_4  pay_5  ...  bill_amt_3  bill_amt_4  bill_amt_5  bill_amt_6  \\\n",
       "0    0.0    0.0    0.0  ...     62290.0     29296.0     26210.0     17643.0   \n",
       "1    0.0    0.0    0.0  ...     50942.0     50146.0     50235.0     48984.0   \n",
       "2    0.0    0.0    0.0  ...     15535.0      1434.0       500.0         0.0   \n",
       "3    0.0    0.0    0.0  ...     27086.0     27821.0     30767.0     29890.0   \n",
       "4    0.0   -1.0    0.0  ...    161192.0    150464.0    143375.0    146411.0   \n",
       "5    0.0    0.0    0.0  ...     64747.0     65150.0      -450.0       700.0   \n",
       "6    0.0    0.0    0.0  ...     61156.0     62377.0     63832.0     65099.0   \n",
       "7    0.0    0.0    0.0  ...    122214.0    124647.0    126921.0    129167.0   \n",
       "8    0.0    0.0    0.0  ...    171106.0    174500.0    137406.0    204975.0   \n",
       "9    0.0    0.0    0.0  ...    165107.0    105508.0    108101.0    110094.0   \n",
       "\n",
       "   pay_amt_1  pay_amt_2  pay_amt_3  pay_amt_4  pay_amt_5  pay_amt_6  \n",
       "0     2545.0     2208.0     1336.0     2232.0      542.0      348.0  \n",
       "1     1689.0     2164.0     2500.0     3480.0     2500.0     3000.0  \n",
       "2     4641.0     1019.0      900.0        0.0     1500.0        0.0  \n",
       "3     5000.0     5000.0     1137.0     5000.0     1085.0     5000.0  \n",
       "4     4019.0   146896.0   157436.0     4600.0     4709.0     5600.0  \n",
       "5    15235.0     1491.0     1303.0        0.0     2000.0     1400.0  \n",
       "6     2886.0     2908.0     2129.0     2354.0     2366.0     2291.0  \n",
       "7     7822.0     4417.0     4446.0     4597.0     4677.0     4698.0  \n",
       "8    54209.0     4607.0     4603.0     5224.0   207440.0     7509.0  \n",
       "9     7000.0     6607.0     3773.0     4290.0     4164.0     2000.0  \n",
       "\n",
       "[10 rows x 23 columns]"
      ]
     },
     "execution_count": 20,
     "metadata": {},
     "output_type": "execute_result"
    }
   ],
   "source": [
    "# Melakukan split data x dan y\n",
    "\n",
    "X = df.drop(['default_payment_next_month'],axis=1)\n",
    "y = df.default_payment_next_month\n",
    "\n",
    "X.head(10)"
   ]
  },
  {
   "cell_type": "markdown",
   "metadata": {},
   "source": [
    "Membagi data x dan y dengan variabel y sebagai target **default_payment_next_month** dan membuang variabel **default_payment_next_month** pada variabel x."
   ]
  },
  {
   "cell_type": "code",
   "execution_count": 21,
   "metadata": {},
   "outputs": [
    {
     "name": "stdout",
     "output_type": "stream",
     "text": [
      "X Train Size : (2371, 23)\n",
      "X Test Size : (593, 23)\n",
      "y Train Size : (2371,)\n",
      "y Test Size : (593,)\n"
     ]
    }
   ],
   "source": [
    "# Melakukan split antara data train dan test menggunakan train_test_split\n",
    "X_train, X_test, y_train, y_test = train_test_split(X, y, test_size=0.2, random_state=10)\n",
    "\n",
    "print('X Train Size :', X_train.shape)\n",
    "print('X Test Size :', X_test.shape)\n",
    "print('y Train Size :', y_train.shape)\n",
    "print('y Test Size :', y_test.shape)"
   ]
  },
  {
   "cell_type": "markdown",
   "metadata": {},
   "source": [
    "Melakukan split pada variabel X dan y menjadi data train dan test"
   ]
  },
  {
   "cell_type": "markdown",
   "metadata": {},
   "source": [
    "## Feature Selection"
   ]
  },
  {
   "cell_type": "code",
   "execution_count": 22,
   "metadata": {},
   "outputs": [
    {
     "name": "stdout",
     "output_type": "stream",
     "text": [
      "interval columns not set, guessing: ['limit_balance', 'sex', 'education_level', 'marital_status', 'age', 'pay_0', 'pay_2', 'pay_3', 'pay_4', 'pay_5', 'pay_6', 'bill_amt_1', 'bill_amt_2', 'bill_amt_3', 'bill_amt_4', 'bill_amt_5', 'bill_amt_6', 'pay_amt_1', 'pay_amt_2', 'pay_amt_3', 'pay_amt_4', 'pay_amt_5', 'pay_amt_6', 'default_payment_next_month']\n"
     ]
    },
    {
     "data": {
      "image/png": "[encoded data removed]",
      "text/plain": [
       "<Figure size 1000x800 with 2 Axes>"
      ]
     },
     "metadata": {},
     "output_type": "display_data"
    }
   ],
   "source": [
    "# get the phi_k correlation matrix between all variables\n",
    "correlation_matrix = df.phik_matrix()\n",
    "\n",
    "\n",
    "# Membuat heatmap\n",
    "plt.figure(figsize=(10, 8))\n",
    "sns.heatmap(correlation_matrix, cmap='coolwarm', fmt='.2f', linewidths=.5)\n",
    "plt.title('Phi_k Correlation Matrix')\n",
    "plt.show()"
   ]
  },
  {
   "cell_type": "markdown",
   "metadata": {},
   "source": [
    "Berdasarkan visualisasi diatas, variabel X yang akan digunakan dalam model seperti 'limit_balance', 'pay_0', 'pay_2', 'pay_3', 'pay_4', 'pay_5', 'pay_6' untuk memprediksi variabel y (default_payment_next_month) karena korelasi diatas 0.1"
   ]
  },
  {
   "cell_type": "markdown",
   "metadata": {},
   "source": [
    "## Outlier Handling"
   ]
  },
  {
   "cell_type": "markdown",
   "metadata": {},
   "source": [
    "Tidak melakukan outlier handling karena outlier bersifat alami dalam dataset. (Sudah melakukan outlier handling mengugnakan trim dan capping namun hasil yang diberikan tidak cukup baik jika dibandingkan masih menggunakan outlier pada data)"
   ]
  },
  {
   "cell_type": "markdown",
   "metadata": {},
   "source": [
    "## Handling Missing Value"
   ]
  },
  {
   "cell_type": "markdown",
   "metadata": {},
   "source": [
    "Tidak terdapat missing value pada dataset."
   ]
  },
  {
   "cell_type": "markdown",
   "metadata": {},
   "source": [
    "## Split Column"
   ]
  },
  {
   "cell_type": "code",
   "execution_count": 23,
   "metadata": {},
   "outputs": [],
   "source": [
    "# Membagi kolom kategori dan numerik pada variabel X\n",
    "X_train_num = X_train[['limit_balance']]\n",
    "X_test_num = X_test[['limit_balance']]\n",
    "\n",
    "X_train_cat = X_train[['pay_0','pay_2', 'pay_3', 'pay_4', 'pay_5', 'pay_6']]\n",
    "X_test_cat = X_test[['pay_0','pay_2', 'pay_3', 'pay_4', 'pay_5', 'pay_6']]"
   ]
  },
  {
   "cell_type": "markdown",
   "metadata": {},
   "source": [
    "Memilih kolom yang akan digunakan dan melakukan pemindahan kolom numerik dan kategorial "
   ]
  },
  {
   "cell_type": "markdown",
   "metadata": {},
   "source": [
    "## Feature Scaling"
   ]
  },
  {
   "cell_type": "code",
   "execution_count": 24,
   "metadata": {},
   "outputs": [
    {
     "data": {
      "text/plain": [
       "array([[0.37974684],\n",
       "       [0.16455696],\n",
       "       [0.16455696],\n",
       "       ...,\n",
       "       [0.08860759],\n",
       "       [0.17721519],\n",
       "       [0.01265823]])"
      ]
     },
     "execution_count": 24,
     "metadata": {},
     "output_type": "execute_result"
    }
   ],
   "source": [
    "# Melakukan scaling menggunakan MinMaxScaler\n",
    "scaler = MinMaxScaler()\n",
    "scaler.fit(X_train_num) \n",
    "\n",
    "X_train_num_scaled = scaler.transform(X_train_num)\n",
    "X_test_num_scaled = scaler.transform(X_test_num)\n",
    "\n",
    "X_train_num_scaled"
   ]
  },
  {
   "cell_type": "markdown",
   "metadata": {},
   "source": [
    "Melakukan Scaling menggunakan MinMaxScaler karena terdapat data outlier dalam data numerik dan distribusinya belum normal"
   ]
  },
  {
   "cell_type": "markdown",
   "metadata": {},
   "source": [
    "## Feature Encoding"
   ]
  },
  {
   "cell_type": "markdown",
   "metadata": {},
   "source": [
    "Tidak melakukan Encoding "
   ]
  },
  {
   "cell_type": "markdown",
   "metadata": {},
   "source": [
    "## Gabungkan data X_train dan X_test"
   ]
  },
  {
   "cell_type": "code",
   "execution_count": 25,
   "metadata": {},
   "outputs": [
    {
     "data": {
      "text/plain": [
       "array([[ 0.37974684,  0.        ,  0.        , ...,  0.        ,\n",
       "         0.        ,  0.        ],\n",
       "       [ 0.16455696,  0.        , -1.        , ...,  0.        ,\n",
       "        -1.        , -1.        ],\n",
       "       [ 0.16455696,  0.        ,  0.        , ...,  2.        ,\n",
       "         2.        ,  2.        ],\n",
       "       ...,\n",
       "       [ 0.08860759,  0.        ,  0.        , ...,  0.        ,\n",
       "         0.        ,  0.        ],\n",
       "       [ 0.17721519,  0.        ,  0.        , ...,  0.        ,\n",
       "         0.        ,  0.        ],\n",
       "       [ 0.01265823,  2.        ,  0.        , ...,  0.        ,\n",
       "         0.        ,  0.        ]])"
      ]
     },
     "execution_count": 25,
     "metadata": {},
     "output_type": "execute_result"
    }
   ],
   "source": [
    "# Menggabungkan data numerik dan kategori dan dimasukkan ke dalam variabel X_train_final dan X_test_final\n",
    "X_train_final = np.concatenate([X_train_num_scaled, X_train_cat], axis=1)\n",
    "X_test_final = np.concatenate([X_test_num_scaled, X_test_cat], axis=1)\n",
    "\n",
    "X_train_final"
   ]
  },
  {
   "cell_type": "markdown",
   "metadata": {},
   "source": [
    "# Model Definition"
   ]
  },
  {
   "cell_type": "markdown",
   "metadata": {},
   "source": [
    "\n",
    "1. KNN (K-Nearest Neighbors):\n",
    "\n",
    "Alasan Penggunaan: KNN adalah model klasifikasi yang sederhana dan intuitif. Cocok untuk digunakan jika dataset tidak terlalu besar dan tidak memiliki banyak fitur. KNN dapat menangani data yang tidak linier dan cocok untuk klasifikasi multiclass.\n",
    "Hyperparameter yang Dipakai: Jumlah tetangga (n_neighbors), metode pengukuran jarak (metric), dan opsi lainnya seperti jenis bobot.\n",
    "Metrics yang Dipakai: F1 Score cocok untuk kasus dataset yang tidak seimbang karena memperhitungkan baik presisi maupun recall. Ini penting ketika terdapat ketidakseimbangan antara kelas positif dan negatif.\n",
    "\n",
    "2. SVM (Support Vector Machine):\n",
    "\n",
    "Alasan Penggunaan: SVM efektif dalam menangani data dengan dimensi tinggi dan memiliki kelebihan dalam menangani data yang tidak linier. SVM juga dapat digunakan baik untuk masalah klasifikasi biner maupun multiclass.\n",
    "Hyperparameter yang Dipakai: Parameter C (C), jenis kernel (kernel), dan parameter kernel lainnya seperti gamma untuk kernel non-linear.\n",
    "Metrics yang Dipakai: F1 Score berguna untuk mengevaluasi kinerja model pada dataset yang tidak seimbang karena memberikan keseimbangan antara presisi dan recall.\n",
    "\n",
    "3. Logistic Regression:\n",
    "\n",
    "Alasan Penggunaan: Logistic Regression adalah model klasifikasi biner yang sederhana, mudah diinterpretasikan, dan efisien. Cocok digunakan untuk dataset dengan jumlah fitur relatif besar.\n",
    "Hyperparameter yang Dipakai: Parameter regularisasi (C), jenis solver (solver), dan opsi lainnya seperti tipe regulasi (penalty).\n",
    "Metrics yang Dipakai: F1 Score efektif digunakan untuk mengevaluasi performa model pada dataset yang tidak seimbang karena mempertimbangkan trade-off antara presisi dan recall.\n",
    "Kelebihan dan Kelemahan:\n",
    "\n",
    "KNN: [Sumber KNN](https://www.trivusi.web.id/2022/06/algoritma-knn.html)\n",
    "\n",
    "Kelebihan: Sederhana, tidak memerlukan asumsi distribusi data, dan hyperparameter yang sedikit, yaitu nilai K dan metrik jarak.\n",
    "\n",
    "Kelemahan: Sensitif terhadap pencilan, tidak cocok pada dataset besar dan dimensi yang tinggi.\n",
    "\n",
    "SVM: [Sumber SVM](https://dqlab.id/perbandingan-support-vector-machine-dan-decision-tree)\n",
    "\n",
    "Kelebihan: Efektif dalam ruang fitur berdimensi tinggi, dapat menangani dataset non-linier, serta  SVM pengklasifikasi pada dasarnya menggunakan subset dari poin pelatihan sehingga hasilnya menggunakan memori yang sangat sedikit. \n",
    "\n",
    "Kelemahan: Memiliki hyperparameter yang cukup banyak dibandingkan dengan KNN, tidak efisien untuk dataset besar.\n",
    "\n",
    "Logistic Regression: [Sumber Logistic Regression](https://www.quora.com/What-are-pros-and-cos-of-logistic-regression-and-random-forest)\n",
    "\n",
    "Kelebihan: Dapat bekerja dengan baik jika terdapat asumsi linear pada fitur dan log-ods, mudah diinterpretasikan, efisien untuk dataset besar.\n",
    "\n",
    "Kelemahan: Tidak dapat menangani hubungan non-linier secara langsung."
   ]
  },
  {
   "cell_type": "markdown",
   "metadata": {},
   "source": [
    "# Model Training"
   ]
  },
  {
   "cell_type": "markdown",
   "metadata": {},
   "source": [
    "## KNN"
   ]
  },
  {
   "cell_type": "code",
   "execution_count": 26,
   "metadata": {},
   "outputs": [
    {
     "data": {
      "text/html": [
       "<style>#sk-container-id-1 {color: black;background-color: white;}#sk-container-id-1 pre{padding: 0;}#sk-container-id-1 div.sk-toggleable {background-color: white;}#sk-container-id-1 label.sk-toggleable__label {cursor: pointer;display: block;width: 100%;margin-bottom: 0;padding: 0.3em;box-sizing: border-box;text-align: center;}#sk-container-id-1 label.sk-toggleable__label-arrow:before {content: \"▸\";float: left;margin-right: 0.25em;color: #696969;}#sk-container-id-1 label.sk-toggleable__label-arrow:hover:before {color: black;}#sk-container-id-1 div.sk-estimator:hover label.sk-toggleable__label-arrow:before {color: black;}#sk-container-id-1 div.sk-toggleable__content {max-height: 0;max-width: 0;overflow: hidden;text-align: left;background-color: #f0f8ff;}#sk-container-id-1 div.sk-toggleable__content pre {margin: 0.2em;color: black;border-radius: 0.25em;background-color: #f0f8ff;}#sk-container-id-1 input.sk-toggleable__control:checked~div.sk-toggleable__content {max-height: 200px;max-width: 100%;overflow: auto;}#sk-container-id-1 input.sk-toggleable__control:checked~label.sk-toggleable__label-arrow:before {content: \"▾\";}#sk-container-id-1 div.sk-estimator input.sk-toggleable__control:checked~label.sk-toggleable__label {background-color: #d4ebff;}#sk-container-id-1 div.sk-label input.sk-toggleable__control:checked~label.sk-toggleable__label {background-color: #d4ebff;}#sk-container-id-1 input.sk-hidden--visually {border: 0;clip: rect(1px 1px 1px 1px);clip: rect(1px, 1px, 1px, 1px);height: 1px;margin: -1px;overflow: hidden;padding: 0;position: absolute;width: 1px;}#sk-container-id-1 div.sk-estimator {font-family: monospace;background-color: #f0f8ff;border: 1px dotted black;border-radius: 0.25em;box-sizing: border-box;margin-bottom: 0.5em;}#sk-container-id-1 div.sk-estimator:hover {background-color: #d4ebff;}#sk-container-id-1 div.sk-parallel-item::after {content: \"\";width: 100%;border-bottom: 1px solid gray;flex-grow: 1;}#sk-container-id-1 div.sk-label:hover label.sk-toggleable__label {background-color: #d4ebff;}#sk-container-id-1 div.sk-serial::before {content: \"\";position: absolute;border-left: 1px solid gray;box-sizing: border-box;top: 0;bottom: 0;left: 50%;z-index: 0;}#sk-container-id-1 div.sk-serial {display: flex;flex-direction: column;align-items: center;background-color: white;padding-right: 0.2em;padding-left: 0.2em;position: relative;}#sk-container-id-1 div.sk-item {position: relative;z-index: 1;}#sk-container-id-1 div.sk-parallel {display: flex;align-items: stretch;justify-content: center;background-color: white;position: relative;}#sk-container-id-1 div.sk-item::before, #sk-container-id-1 div.sk-parallel-item::before {content: \"\";position: absolute;border-left: 1px solid gray;box-sizing: border-box;top: 0;bottom: 0;left: 50%;z-index: -1;}#sk-container-id-1 div.sk-parallel-item {display: flex;flex-direction: column;z-index: 1;position: relative;background-color: white;}#sk-container-id-1 div.sk-parallel-item:first-child::after {align-self: flex-end;width: 50%;}#sk-container-id-1 div.sk-parallel-item:last-child::after {align-self: flex-start;width: 50%;}#sk-container-id-1 div.sk-parallel-item:only-child::after {width: 0;}#sk-container-id-1 div.sk-dashed-wrapped {border: 1px dashed gray;margin: 0 0.4em 0.5em 0.4em;box-sizing: border-box;padding-bottom: 0.4em;background-color: white;}#sk-container-id-1 div.sk-label label {font-family: monospace;font-weight: bold;display: inline-block;line-height: 1.2em;}#sk-container-id-1 div.sk-label-container {text-align: center;}#sk-container-id-1 div.sk-container {/* jupyter's `normalize.less` sets `[hidden] { display: none; }` but bootstrap.min.css set `[hidden] { display: none !important; }` so we also need the `!important` here to be able to override the default hidden behavior on the sphinx rendered scikit-learn.org. See: https://github.com/scikit-learn/scikit-learn/issues/21755 */display: inline-block !important;position: relative;}#sk-container-id-1 div.sk-text-repr-fallback {display: none;}</style><div id=\"sk-container-id-1\" class=\"sk-top-container\"><div class=\"sk-text-repr-fallback\"><pre>KNeighborsClassifier()</pre><b>In a Jupyter environment, please rerun this cell to show the HTML representation or trust the notebook. <br />On GitHub, the HTML representation is unable to render, please try loading this page with nbviewer.org.</b></div><div class=\"sk-container\" hidden><div class=\"sk-item\"><div class=\"sk-estimator sk-toggleable\"><input class=\"sk-toggleable__control sk-hidden--visually\" id=\"sk-estimator-id-1\" type=\"checkbox\" checked><label for=\"sk-estimator-id-1\" class=\"sk-toggleable__label sk-toggleable__label-arrow\">KNeighborsClassifier</label><div class=\"sk-toggleable__content\"><pre>KNeighborsClassifier()</pre></div></div></div></div></div>"
      ],
      "text/plain": [
       "KNeighborsClassifier()"
      ]
     },
     "execution_count": 26,
     "metadata": {},
     "output_type": "execute_result"
    }
   ],
   "source": [
    "# Menggunakan KNN\n",
    "\n",
    "knn = KNeighborsClassifier()\n",
    "knn.fit(X_train_final, y_train)"
   ]
  },
  {
   "cell_type": "markdown",
   "metadata": {},
   "source": [
    "Menggunakan Model KNN pada train"
   ]
  },
  {
   "cell_type": "code",
   "execution_count": 27,
   "metadata": {},
   "outputs": [],
   "source": [
    "# Prediksi Model KNN\n",
    "\n",
    "y_pred_train_knn = knn.predict(X_train_final)\n",
    "y_pred_test_knn = knn.predict(X_test_final)"
   ]
  },
  {
   "cell_type": "markdown",
   "metadata": {},
   "source": [
    "Prediksi model menggunakan KNN"
   ]
  },
  {
   "cell_type": "markdown",
   "metadata": {},
   "source": [
    "## Logistic Regression"
   ]
  },
  {
   "cell_type": "code",
   "execution_count": 28,
   "metadata": {},
   "outputs": [
    {
     "data": {
      "text/html": [
       "<style>#sk-container-id-2 {color: black;background-color: white;}#sk-container-id-2 pre{padding: 0;}#sk-container-id-2 div.sk-toggleable {background-color: white;}#sk-container-id-2 label.sk-toggleable__label {cursor: pointer;display: block;width: 100%;margin-bottom: 0;padding: 0.3em;box-sizing: border-box;text-align: center;}#sk-container-id-2 label.sk-toggleable__label-arrow:before {content: \"▸\";float: left;margin-right: 0.25em;color: #696969;}#sk-container-id-2 label.sk-toggleable__label-arrow:hover:before {color: black;}#sk-container-id-2 div.sk-estimator:hover label.sk-toggleable__label-arrow:before {color: black;}#sk-container-id-2 div.sk-toggleable__content {max-height: 0;max-width: 0;overflow: hidden;text-align: left;background-color: #f0f8ff;}#sk-container-id-2 div.sk-toggleable__content pre {margin: 0.2em;color: black;border-radius: 0.25em;background-color: #f0f8ff;}#sk-container-id-2 input.sk-toggleable__control:checked~div.sk-toggleable__content {max-height: 200px;max-width: 100%;overflow: auto;}#sk-container-id-2 input.sk-toggleable__control:checked~label.sk-toggleable__label-arrow:before {content: \"▾\";}#sk-container-id-2 div.sk-estimator input.sk-toggleable__control:checked~label.sk-toggleable__label {background-color: #d4ebff;}#sk-container-id-2 div.sk-label input.sk-toggleable__control:checked~label.sk-toggleable__label {background-color: #d4ebff;}#sk-container-id-2 input.sk-hidden--visually {border: 0;clip: rect(1px 1px 1px 1px);clip: rect(1px, 1px, 1px, 1px);height: 1px;margin: -1px;overflow: hidden;padding: 0;position: absolute;width: 1px;}#sk-container-id-2 div.sk-estimator {font-family: monospace;background-color: #f0f8ff;border: 1px dotted black;border-radius: 0.25em;box-sizing: border-box;margin-bottom: 0.5em;}#sk-container-id-2 div.sk-estimator:hover {background-color: #d4ebff;}#sk-container-id-2 div.sk-parallel-item::after {content: \"\";width: 100%;border-bottom: 1px solid gray;flex-grow: 1;}#sk-container-id-2 div.sk-label:hover label.sk-toggleable__label {background-color: #d4ebff;}#sk-container-id-2 div.sk-serial::before {content: \"\";position: absolute;border-left: 1px solid gray;box-sizing: border-box;top: 0;bottom: 0;left: 50%;z-index: 0;}#sk-container-id-2 div.sk-serial {display: flex;flex-direction: column;align-items: center;background-color: white;padding-right: 0.2em;padding-left: 0.2em;position: relative;}#sk-container-id-2 div.sk-item {position: relative;z-index: 1;}#sk-container-id-2 div.sk-parallel {display: flex;align-items: stretch;justify-content: center;background-color: white;position: relative;}#sk-container-id-2 div.sk-item::before, #sk-container-id-2 div.sk-parallel-item::before {content: \"\";position: absolute;border-left: 1px solid gray;box-sizing: border-box;top: 0;bottom: 0;left: 50%;z-index: -1;}#sk-container-id-2 div.sk-parallel-item {display: flex;flex-direction: column;z-index: 1;position: relative;background-color: white;}#sk-container-id-2 div.sk-parallel-item:first-child::after {align-self: flex-end;width: 50%;}#sk-container-id-2 div.sk-parallel-item:last-child::after {align-self: flex-start;width: 50%;}#sk-container-id-2 div.sk-parallel-item:only-child::after {width: 0;}#sk-container-id-2 div.sk-dashed-wrapped {border: 1px dashed gray;margin: 0 0.4em 0.5em 0.4em;box-sizing: border-box;padding-bottom: 0.4em;background-color: white;}#sk-container-id-2 div.sk-label label {font-family: monospace;font-weight: bold;display: inline-block;line-height: 1.2em;}#sk-container-id-2 div.sk-label-container {text-align: center;}#sk-container-id-2 div.sk-container {/* jupyter's `normalize.less` sets `[hidden] { display: none; }` but bootstrap.min.css set `[hidden] { display: none !important; }` so we also need the `!important` here to be able to override the default hidden behavior on the sphinx rendered scikit-learn.org. See: https://github.com/scikit-learn/scikit-learn/issues/21755 */display: inline-block !important;position: relative;}#sk-container-id-2 div.sk-text-repr-fallback {display: none;}</style><div id=\"sk-container-id-2\" class=\"sk-top-container\"><div class=\"sk-text-repr-fallback\"><pre>LogisticRegression()</pre><b>In a Jupyter environment, please rerun this cell to show the HTML representation or trust the notebook. <br />On GitHub, the HTML representation is unable to render, please try loading this page with nbviewer.org.</b></div><div class=\"sk-container\" hidden><div class=\"sk-item\"><div class=\"sk-estimator sk-toggleable\"><input class=\"sk-toggleable__control sk-hidden--visually\" id=\"sk-estimator-id-2\" type=\"checkbox\" checked><label for=\"sk-estimator-id-2\" class=\"sk-toggleable__label sk-toggleable__label-arrow\">LogisticRegression</label><div class=\"sk-toggleable__content\"><pre>LogisticRegression()</pre></div></div></div></div></div>"
      ],
      "text/plain": [
       "LogisticRegression()"
      ]
     },
     "execution_count": 28,
     "metadata": {},
     "output_type": "execute_result"
    }
   ],
   "source": [
    "# Training using Logistic Regression\n",
    "model_logreg = LogisticRegression()\n",
    "model_logreg.fit(X_train_final, y_train)"
   ]
  },
  {
   "cell_type": "markdown",
   "metadata": {},
   "source": [
    "Menggunakan Model Logistic Regression pada train"
   ]
  },
  {
   "cell_type": "markdown",
   "metadata": {},
   "source": [
    "## SVM"
   ]
  },
  {
   "cell_type": "code",
   "execution_count": 29,
   "metadata": {},
   "outputs": [
    {
     "data": {
      "text/html": [
       "<style>#sk-container-id-3 {color: black;background-color: white;}#sk-container-id-3 pre{padding: 0;}#sk-container-id-3 div.sk-toggleable {background-color: white;}#sk-container-id-3 label.sk-toggleable__label {cursor: pointer;display: block;width: 100%;margin-bottom: 0;padding: 0.3em;box-sizing: border-box;text-align: center;}#sk-container-id-3 label.sk-toggleable__label-arrow:before {content: \"▸\";float: left;margin-right: 0.25em;color: #696969;}#sk-container-id-3 label.sk-toggleable__label-arrow:hover:before {color: black;}#sk-container-id-3 div.sk-estimator:hover label.sk-toggleable__label-arrow:before {color: black;}#sk-container-id-3 div.sk-toggleable__content {max-height: 0;max-width: 0;overflow: hidden;text-align: left;background-color: #f0f8ff;}#sk-container-id-3 div.sk-toggleable__content pre {margin: 0.2em;color: black;border-radius: 0.25em;background-color: #f0f8ff;}#sk-container-id-3 input.sk-toggleable__control:checked~div.sk-toggleable__content {max-height: 200px;max-width: 100%;overflow: auto;}#sk-container-id-3 input.sk-toggleable__control:checked~label.sk-toggleable__label-arrow:before {content: \"▾\";}#sk-container-id-3 div.sk-estimator input.sk-toggleable__control:checked~label.sk-toggleable__label {background-color: #d4ebff;}#sk-container-id-3 div.sk-label input.sk-toggleable__control:checked~label.sk-toggleable__label {background-color: #d4ebff;}#sk-container-id-3 input.sk-hidden--visually {border: 0;clip: rect(1px 1px 1px 1px);clip: rect(1px, 1px, 1px, 1px);height: 1px;margin: -1px;overflow: hidden;padding: 0;position: absolute;width: 1px;}#sk-container-id-3 div.sk-estimator {font-family: monospace;background-color: #f0f8ff;border: 1px dotted black;border-radius: 0.25em;box-sizing: border-box;margin-bottom: 0.5em;}#sk-container-id-3 div.sk-estimator:hover {background-color: #d4ebff;}#sk-container-id-3 div.sk-parallel-item::after {content: \"\";width: 100%;border-bottom: 1px solid gray;flex-grow: 1;}#sk-container-id-3 div.sk-label:hover label.sk-toggleable__label {background-color: #d4ebff;}#sk-container-id-3 div.sk-serial::before {content: \"\";position: absolute;border-left: 1px solid gray;box-sizing: border-box;top: 0;bottom: 0;left: 50%;z-index: 0;}#sk-container-id-3 div.sk-serial {display: flex;flex-direction: column;align-items: center;background-color: white;padding-right: 0.2em;padding-left: 0.2em;position: relative;}#sk-container-id-3 div.sk-item {position: relative;z-index: 1;}#sk-container-id-3 div.sk-parallel {display: flex;align-items: stretch;justify-content: center;background-color: white;position: relative;}#sk-container-id-3 div.sk-item::before, #sk-container-id-3 div.sk-parallel-item::before {content: \"\";position: absolute;border-left: 1px solid gray;box-sizing: border-box;top: 0;bottom: 0;left: 50%;z-index: -1;}#sk-container-id-3 div.sk-parallel-item {display: flex;flex-direction: column;z-index: 1;position: relative;background-color: white;}#sk-container-id-3 div.sk-parallel-item:first-child::after {align-self: flex-end;width: 50%;}#sk-container-id-3 div.sk-parallel-item:last-child::after {align-self: flex-start;width: 50%;}#sk-container-id-3 div.sk-parallel-item:only-child::after {width: 0;}#sk-container-id-3 div.sk-dashed-wrapped {border: 1px dashed gray;margin: 0 0.4em 0.5em 0.4em;box-sizing: border-box;padding-bottom: 0.4em;background-color: white;}#sk-container-id-3 div.sk-label label {font-family: monospace;font-weight: bold;display: inline-block;line-height: 1.2em;}#sk-container-id-3 div.sk-label-container {text-align: center;}#sk-container-id-3 div.sk-container {/* jupyter's `normalize.less` sets `[hidden] { display: none; }` but bootstrap.min.css set `[hidden] { display: none !important; }` so we also need the `!important` here to be able to override the default hidden behavior on the sphinx rendered scikit-learn.org. See: https://github.com/scikit-learn/scikit-learn/issues/21755 */display: inline-block !important;position: relative;}#sk-container-id-3 div.sk-text-repr-fallback {display: none;}</style><div id=\"sk-container-id-3\" class=\"sk-top-container\"><div class=\"sk-text-repr-fallback\"><pre>SVC()</pre><b>In a Jupyter environment, please rerun this cell to show the HTML representation or trust the notebook. <br />On GitHub, the HTML representation is unable to render, please try loading this page with nbviewer.org.</b></div><div class=\"sk-container\" hidden><div class=\"sk-item\"><div class=\"sk-estimator sk-toggleable\"><input class=\"sk-toggleable__control sk-hidden--visually\" id=\"sk-estimator-id-3\" type=\"checkbox\" checked><label for=\"sk-estimator-id-3\" class=\"sk-toggleable__label sk-toggleable__label-arrow\">SVC</label><div class=\"sk-toggleable__content\"><pre>SVC()</pre></div></div></div></div></div>"
      ],
      "text/plain": [
       "SVC()"
      ]
     },
     "execution_count": 29,
     "metadata": {},
     "output_type": "execute_result"
    }
   ],
   "source": [
    "# Training using  SVM \n",
    "svm= SVC()\n",
    "svm.fit(X_train_final, y_train)\n"
   ]
  },
  {
   "cell_type": "markdown",
   "metadata": {},
   "source": [
    "Menggunakan Model SVM pada train"
   ]
  },
  {
   "cell_type": "markdown",
   "metadata": {},
   "source": [
    "# Model Evaluation"
   ]
  },
  {
   "cell_type": "markdown",
   "metadata": {},
   "source": [
    "## KNN"
   ]
  },
  {
   "cell_type": "code",
   "execution_count": 30,
   "metadata": {},
   "outputs": [
    {
     "name": "stdout",
     "output_type": "stream",
     "text": [
      "KNN\n",
      "F1 Score - All - Cross Validation  :  [0.46896552 0.56028369 0.43956044]\n",
      "F1 Score - Mean - Cross Validation :  0.4896032149150271\n",
      "F1 Score - Std - Cross Validation  :  0.05140014007099497\n",
      "F1 Score - Range of Test-Set       :  0.43820307484403215 - 0.541003354986022\n"
     ]
    }
   ],
   "source": [
    "# Menggunakan cross validation pada KNN\n",
    "\n",
    "f1_train_cross_val = cross_val_score(knn,\n",
    "                                     X_train_final,\n",
    "                                     y_train,\n",
    "                                     cv=3,\n",
    "                                     scoring=\"f1\")\n",
    "\n",
    "print('KNN')\n",
    "print('F1 Score - All - Cross Validation  : ', f1_train_cross_val)\n",
    "print('F1 Score - Mean - Cross Validation : ', f1_train_cross_val.mean())\n",
    "print('F1 Score - Std - Cross Validation  : ', f1_train_cross_val.std())\n",
    "print('F1 Score - Range of Test-Set       : ', (f1_train_cross_val.mean()-f1_train_cross_val.std()) , '-', (f1_train_cross_val.mean()+f1_train_cross_val.std()))"
   ]
  },
  {
   "cell_type": "markdown",
   "metadata": {},
   "source": [
    "Berdasrkan data cross validation, didapatkan bahwa pada rata-rata F1 Score pada KNN sebesar 0.489 dan F1 Score berada pada rentang 0.438 - 0.541 jika menggunakan 3 cross validation "
   ]
  },
  {
   "cell_type": "code",
   "execution_count": 31,
   "metadata": {},
   "outputs": [
    {
     "name": "stdout",
     "output_type": "stream",
     "text": [
      "              precision    recall  f1-score   support\n",
      "\n",
      "           0       0.87      0.94      0.90      1867\n",
      "           1       0.69      0.48      0.57       504\n",
      "\n",
      "    accuracy                           0.84      2371\n",
      "   macro avg       0.78      0.71      0.74      2371\n",
      "weighted avg       0.83      0.84      0.83      2371\n",
      "\n",
      "              precision    recall  f1-score   support\n",
      "\n",
      "           0       0.85      0.90      0.88       462\n",
      "           1       0.58      0.46      0.51       131\n",
      "\n",
      "    accuracy                           0.81       593\n",
      "   macro avg       0.72      0.68      0.69       593\n",
      "weighted avg       0.79      0.81      0.80       593\n",
      "\n"
     ]
    }
   ],
   "source": [
    "# Model Evaluation - Train Set & Test Set KNN\n",
    "\n",
    "print(classification_report(y_train, y_pred_train_knn))\n",
    "print(classification_report(y_test, y_pred_test_knn))"
   ]
  },
  {
   "cell_type": "code",
   "execution_count": 32,
   "metadata": {},
   "outputs": [
    {
     "name": "stdout",
     "output_type": "stream",
     "text": [
      "Train\n",
      "Precision :  0.6864406779661016\n",
      "Recall    :  0.48214285714285715\n",
      "F1 Score    :  0.5664335664335665\n",
      "\n",
      "Test\n",
      "Precision :  0.5769230769230769\n",
      "Recall    :  0.4580152671755725\n",
      "F1 Score    :  0.5106382978723403\n"
     ]
    }
   ],
   "source": [
    "# Get Precision Score, Recall Score, F1 Score\n",
    "print(\"Train\")\n",
    "print('Precision : ', precision_score(y_train, y_pred_train_knn))\n",
    "print('Recall    : ', recall_score(y_train, y_pred_train_knn))\n",
    "print('F1 Score    : ', f1_score(y_train, y_pred_train_knn))\n",
    "print('')\n",
    "\n",
    "print(\"Test\")\n",
    "print('Precision : ', precision_score(y_test, y_pred_test_knn))\n",
    "print('Recall    : ', recall_score(y_test, y_pred_test_knn))\n",
    "print('F1 Score    : ', f1_score(y_test, y_pred_test_knn))\n"
   ]
  },
  {
   "cell_type": "markdown",
   "metadata": {},
   "source": [
    "Didapatkan bahwa F1 Score pada Train lebih besar jika dibandingkan dengan F1 Score pada Test pada model KNN, oleh karena itu model KNN masih underfit"
   ]
  },
  {
   "cell_type": "markdown",
   "metadata": {},
   "source": [
    "## Logistic Regression"
   ]
  },
  {
   "cell_type": "code",
   "execution_count": 33,
   "metadata": {},
   "outputs": [
    {
     "name": "stdout",
     "output_type": "stream",
     "text": [
      "LogisticRegression\n",
      "F1 Score - All - Cross Validation  :  [0.31578947 0.42608696 0.456     ]\n",
      "F1 Score - Mean - Cross Validation :  0.3992921434019833\n",
      "F1 Score - Std - Cross Validation  :  0.06029493859371428\n",
      "F1 Score - Range of Test-Set       :  0.33899720480826906 - 0.4595870819956976\n"
     ]
    }
   ],
   "source": [
    "# Cross Validation using `cross_val_score`\n",
    "\n",
    "f1_train_cross_val = cross_val_score(model_logreg,\n",
    "                                     X_train_final,\n",
    "                                     y_train,\n",
    "                                     cv=3,\n",
    "                                     scoring=\"f1\")\n",
    "\n",
    "print('LogisticRegression')\n",
    "print('F1 Score - All - Cross Validation  : ', f1_train_cross_val)\n",
    "print('F1 Score - Mean - Cross Validation : ', f1_train_cross_val.mean())\n",
    "print('F1 Score - Std - Cross Validation  : ', f1_train_cross_val.std())\n",
    "print('F1 Score - Range of Test-Set       : ', (f1_train_cross_val.mean()-f1_train_cross_val.std()) , '-', (f1_train_cross_val.mean()+f1_train_cross_val.std()))"
   ]
  },
  {
   "cell_type": "markdown",
   "metadata": {},
   "source": [
    "Berdasrkan data cross validation, didapatkan bahwa pada rata-rata F1 Score pada Logistic Regression sebesar 0.399 dan F1 Score berada pada rentang 0.33899720480826906 - 0.4595870819956976 jika menggunakan 3 cross validation "
   ]
  },
  {
   "cell_type": "code",
   "execution_count": 34,
   "metadata": {},
   "outputs": [],
   "source": [
    "# Model Prediction\n",
    "\n",
    "y_pred_train_model_logreg = model_logreg.predict(X_train_final)\n",
    "y_pred_test_model_logreg = model_logreg.predict(X_test_final)"
   ]
  },
  {
   "cell_type": "code",
   "execution_count": 35,
   "metadata": {},
   "outputs": [
    {
     "name": "stdout",
     "output_type": "stream",
     "text": [
      "              precision    recall  f1-score   support\n",
      "\n",
      "           0       0.83      0.98      0.90      1867\n",
      "           1       0.77      0.27      0.40       504\n",
      "\n",
      "    accuracy                           0.83      2371\n",
      "   macro avg       0.80      0.62      0.65      2371\n",
      "weighted avg       0.82      0.83      0.79      2371\n",
      "\n",
      "              precision    recall  f1-score   support\n",
      "\n",
      "           0       0.83      0.97      0.89       462\n",
      "           1       0.72      0.30      0.42       131\n",
      "\n",
      "    accuracy                           0.82       593\n",
      "   macro avg       0.78      0.63      0.66       593\n",
      "weighted avg       0.81      0.82      0.79       593\n",
      "\n"
     ]
    }
   ],
   "source": [
    "# Model Evaluation - Train Set\n",
    "\n",
    "print(classification_report(y_train, y_pred_train_model_logreg))\n",
    "\n",
    "# Model Evaluation - Test Set\n",
    "\n",
    "print(classification_report(y_test, y_pred_test_model_logreg))"
   ]
  },
  {
   "cell_type": "code",
   "execution_count": 36,
   "metadata": {},
   "outputs": [
    {
     "name": "stdout",
     "output_type": "stream",
     "text": [
      "Train\n",
      "Precision :  0.7653631284916201\n",
      "Recall    :  0.2718253968253968\n",
      "F1 Score    :  0.4011713030746706\n",
      "\n",
      "Test\n",
      "Precision :  0.7222222222222222\n",
      "Recall    :  0.29770992366412213\n",
      "F1 Score    :  0.42162162162162165\n"
     ]
    }
   ],
   "source": [
    "# Get Precision Score, Recall Score, F1 Score\n",
    "print(\"Train\")\n",
    "print('Precision : ', precision_score(y_train, y_pred_train_model_logreg))\n",
    "print('Recall    : ', recall_score(y_train, y_pred_train_model_logreg))\n",
    "print('F1 Score    : ', f1_score(y_train, y_pred_train_model_logreg))\n",
    "print('')\n",
    "\n",
    "print(\"Test\")\n",
    "print('Precision : ', precision_score(y_test, y_pred_test_model_logreg))\n",
    "print('Recall    : ', recall_score(y_test, y_pred_test_model_logreg))\n",
    "print('F1 Score    : ', f1_score(y_test, y_pred_test_model_logreg))\n"
   ]
  },
  {
   "cell_type": "markdown",
   "metadata": {},
   "source": [
    "Didapatkan bahwa F1 Score pada Train lebih kecil jika dibandingkan dengan F1 Score pada Test pada model Logistic Regression, dengan demikian model Logistic Regression sudah fit."
   ]
  },
  {
   "cell_type": "markdown",
   "metadata": {},
   "source": [
    "## SVM"
   ]
  },
  {
   "cell_type": "code",
   "execution_count": 37,
   "metadata": {},
   "outputs": [
    {
     "name": "stdout",
     "output_type": "stream",
     "text": [
      "SVM Linear\n",
      "F1 Score - All - Cross Validation  :  [0.53479853 0.51340996 0.50184502]\n",
      "F1 Score - Mean - Cross Validation :  0.5166845049781811\n",
      "F1 Score - Std - Cross Validation  :  0.013651020358942344\n",
      "F1 Score - Range of Test-Set       :  0.5030334846192387 - 0.5303355253371235\n"
     ]
    }
   ],
   "source": [
    "# Cross Validation using `cross_val_score`\n",
    "\n",
    "f1_train_cross_val = cross_val_score(svm,\n",
    "                                     X_train_final,\n",
    "                                     y_train,\n",
    "                                     cv=3,\n",
    "                                     scoring=\"f1\")\n",
    "\n",
    "print('SVM Linear')\n",
    "print('F1 Score - All - Cross Validation  : ', f1_train_cross_val)\n",
    "print('F1 Score - Mean - Cross Validation : ', f1_train_cross_val.mean())\n",
    "print('F1 Score - Std - Cross Validation  : ', f1_train_cross_val.std())\n",
    "print('F1 Score - Range of Test-Set       : ', (f1_train_cross_val.mean()-f1_train_cross_val.std()) , '-', (f1_train_cross_val.mean()+f1_train_cross_val.std()))"
   ]
  },
  {
   "cell_type": "markdown",
   "metadata": {},
   "source": [
    "Berdasrkan data cross validation, didapatkan bahwa pada rata-rata F1 Score pada Logistic Regression sebesar 0.516 dan F1 Score berada pada rentang 0.5030334846192387 - 0.5303355253371235 jika menggunakan 3 cross validation. "
   ]
  },
  {
   "cell_type": "code",
   "execution_count": 38,
   "metadata": {},
   "outputs": [],
   "source": [
    "# Membuat fungsi performance_check untuk F1 Score\n",
    "def performance_check_f1_score(clf, X, y):\n",
    "  y_pred = clf.predict(X)\n",
    "  return f1_score(y, y_pred)"
   ]
  },
  {
   "cell_type": "code",
   "execution_count": 39,
   "metadata": {},
   "outputs": [],
   "source": [
    "# Membuat fungsi performance_check untuk Precison\n",
    "def performance_check_precision(clf, X, y):\n",
    "  y_pred = clf.predict(X)\n",
    "  return precision_score(y, y_pred)"
   ]
  },
  {
   "cell_type": "code",
   "execution_count": 40,
   "metadata": {},
   "outputs": [],
   "source": [
    "# Membuat fungsi performance_check untuk recall\n",
    "def performance_check_recall(clf, X, y):\n",
    "  y_pred = clf.predict(X)\n",
    "  return recall_score(y, y_pred)"
   ]
  },
  {
   "cell_type": "code",
   "execution_count": 41,
   "metadata": {},
   "outputs": [
    {
     "name": "stdout",
     "output_type": "stream",
     "text": [
      "SVM\n",
      "Train Precision :  0.7246835443037974\n",
      "Train Recall :  0.45436507936507936\n",
      "Train F1 Score :  0.5585365853658536\n",
      "\n",
      "Test Precision:  0.7011494252873564\n",
      "Test Recall :  0.46564885496183206\n",
      "Test F1 Score:  0.5596330275229359\n"
     ]
    }
   ],
   "source": [
    "# Model Evaluation\n",
    "\n",
    "print('SVM')\n",
    "print('Train Precision : ', performance_check_precision(svm, X_train_final, y_train))\n",
    "print('Train Recall : ', performance_check_recall(svm, X_train_final, y_train))\n",
    "print('Train F1 Score : ', performance_check_f1_score(svm, X_train_final, y_train))\n",
    "print('')\n",
    "\n",
    "print('Test Precision: ', performance_check_precision(svm, X_test_final, y_test))\n",
    "print('Test Recall : ', performance_check_recall(svm, X_test_final, y_test))\n",
    "print('Test F1 Score: ', performance_check_f1_score(svm, X_test_final, y_test))\n",
    "\n"
   ]
  },
  {
   "cell_type": "markdown",
   "metadata": {},
   "source": [
    "Didapatkan bahwa F1 Score pada Train lebih kecil jika dibandingkan dengan F1 Score pada Test pada model SVM, dengan demikian model SVM sudah fit."
   ]
  },
  {
   "cell_type": "markdown",
   "metadata": {},
   "source": [
    "Jika dibandingkan pada ketiga model, F1 Score pada SVM lebih baik jika dibandingkan dengan Logistic Regression walaupun sama-sama fit, sedangkanF1 Score pada SVM jauh lebih baik jika dibandingkan dengan KNN karena model KNN masih underfit. Oleh karena itu, dalam hal ini akan dilakukan hyperparameter tuning pada SVM menggunakan Random Search"
   ]
  },
  {
   "cell_type": "markdown",
   "metadata": {},
   "source": [
    "## Menggunakan Random Search"
   ]
  },
  {
   "cell_type": "markdown",
   "metadata": {},
   "source": [
    "### SVM"
   ]
  },
  {
   "cell_type": "code",
   "execution_count": 42,
   "metadata": {},
   "outputs": [],
   "source": [
    "# Define Hyperparameters\n",
    "kernel = ['linear' , 'poly', 'rbf']\n",
    "C = [1, 2, 3, 4, 5, 6, 7, 8, 9, 10, \n",
    "     11, 12, 13, 14, 15, 16, 17, 18, 19, 20]\n",
    "gamma = ['scale', 'auto']\n",
    "\n",
    "\n",
    "random_search_params = {\n",
    "    'kernel' : kernel,\n",
    "    'C' : C,\n",
    "    'gamma' : gamma\n",
    "\n",
    "}"
   ]
  },
  {
   "cell_type": "markdown",
   "metadata": {},
   "source": [
    "Melakukan hyperparameter tuning menggunakan parameter kernel, C, dan gamma"
   ]
  },
  {
   "cell_type": "code",
   "execution_count": 43,
   "metadata": {},
   "outputs": [
    {
     "data": {
      "text/html": [
       "<style>#sk-container-id-4 {color: black;background-color: white;}#sk-container-id-4 pre{padding: 0;}#sk-container-id-4 div.sk-toggleable {background-color: white;}#sk-container-id-4 label.sk-toggleable__label {cursor: pointer;display: block;width: 100%;margin-bottom: 0;padding: 0.3em;box-sizing: border-box;text-align: center;}#sk-container-id-4 label.sk-toggleable__label-arrow:before {content: \"▸\";float: left;margin-right: 0.25em;color: #696969;}#sk-container-id-4 label.sk-toggleable__label-arrow:hover:before {color: black;}#sk-container-id-4 div.sk-estimator:hover label.sk-toggleable__label-arrow:before {color: black;}#sk-container-id-4 div.sk-toggleable__content {max-height: 0;max-width: 0;overflow: hidden;text-align: left;background-color: #f0f8ff;}#sk-container-id-4 div.sk-toggleable__content pre {margin: 0.2em;color: black;border-radius: 0.25em;background-color: #f0f8ff;}#sk-container-id-4 input.sk-toggleable__control:checked~div.sk-toggleable__content {max-height: 200px;max-width: 100%;overflow: auto;}#sk-container-id-4 input.sk-toggleable__control:checked~label.sk-toggleable__label-arrow:before {content: \"▾\";}#sk-container-id-4 div.sk-estimator input.sk-toggleable__control:checked~label.sk-toggleable__label {background-color: #d4ebff;}#sk-container-id-4 div.sk-label input.sk-toggleable__control:checked~label.sk-toggleable__label {background-color: #d4ebff;}#sk-container-id-4 input.sk-hidden--visually {border: 0;clip: rect(1px 1px 1px 1px);clip: rect(1px, 1px, 1px, 1px);height: 1px;margin: -1px;overflow: hidden;padding: 0;position: absolute;width: 1px;}#sk-container-id-4 div.sk-estimator {font-family: monospace;background-color: #f0f8ff;border: 1px dotted black;border-radius: 0.25em;box-sizing: border-box;margin-bottom: 0.5em;}#sk-container-id-4 div.sk-estimator:hover {background-color: #d4ebff;}#sk-container-id-4 div.sk-parallel-item::after {content: \"\";width: 100%;border-bottom: 1px solid gray;flex-grow: 1;}#sk-container-id-4 div.sk-label:hover label.sk-toggleable__label {background-color: #d4ebff;}#sk-container-id-4 div.sk-serial::before {content: \"\";position: absolute;border-left: 1px solid gray;box-sizing: border-box;top: 0;bottom: 0;left: 50%;z-index: 0;}#sk-container-id-4 div.sk-serial {display: flex;flex-direction: column;align-items: center;background-color: white;padding-right: 0.2em;padding-left: 0.2em;position: relative;}#sk-container-id-4 div.sk-item {position: relative;z-index: 1;}#sk-container-id-4 div.sk-parallel {display: flex;align-items: stretch;justify-content: center;background-color: white;position: relative;}#sk-container-id-4 div.sk-item::before, #sk-container-id-4 div.sk-parallel-item::before {content: \"\";position: absolute;border-left: 1px solid gray;box-sizing: border-box;top: 0;bottom: 0;left: 50%;z-index: -1;}#sk-container-id-4 div.sk-parallel-item {display: flex;flex-direction: column;z-index: 1;position: relative;background-color: white;}#sk-container-id-4 div.sk-parallel-item:first-child::after {align-self: flex-end;width: 50%;}#sk-container-id-4 div.sk-parallel-item:last-child::after {align-self: flex-start;width: 50%;}#sk-container-id-4 div.sk-parallel-item:only-child::after {width: 0;}#sk-container-id-4 div.sk-dashed-wrapped {border: 1px dashed gray;margin: 0 0.4em 0.5em 0.4em;box-sizing: border-box;padding-bottom: 0.4em;background-color: white;}#sk-container-id-4 div.sk-label label {font-family: monospace;font-weight: bold;display: inline-block;line-height: 1.2em;}#sk-container-id-4 div.sk-label-container {text-align: center;}#sk-container-id-4 div.sk-container {/* jupyter's `normalize.less` sets `[hidden] { display: none; }` but bootstrap.min.css set `[hidden] { display: none !important; }` so we also need the `!important` here to be able to override the default hidden behavior on the sphinx rendered scikit-learn.org. See: https://github.com/scikit-learn/scikit-learn/issues/21755 */display: inline-block !important;position: relative;}#sk-container-id-4 div.sk-text-repr-fallback {display: none;}</style><div id=\"sk-container-id-4\" class=\"sk-top-container\"><div class=\"sk-text-repr-fallback\"><pre>RandomizedSearchCV(cv=5, estimator=SVC(), n_iter=60, n_jobs=-1,\n",
       "                   param_distributions={&#x27;C&#x27;: [1, 2, 3, 4, 5, 6, 7, 8, 9, 10, 11,\n",
       "                                              12, 13, 14, 15, 16, 17, 18, 19,\n",
       "                                              20],\n",
       "                                        &#x27;gamma&#x27;: [&#x27;scale&#x27;, &#x27;auto&#x27;],\n",
       "                                        &#x27;kernel&#x27;: [&#x27;linear&#x27;, &#x27;poly&#x27;, &#x27;rbf&#x27;]},\n",
       "                   random_state=10, scoring=&#x27;f1&#x27;)</pre><b>In a Jupyter environment, please rerun this cell to show the HTML representation or trust the notebook. <br />On GitHub, the HTML representation is unable to render, please try loading this page with nbviewer.org.</b></div><div class=\"sk-container\" hidden><div class=\"sk-item sk-dashed-wrapped\"><div class=\"sk-label-container\"><div class=\"sk-label sk-toggleable\"><input class=\"sk-toggleable__control sk-hidden--visually\" id=\"sk-estimator-id-4\" type=\"checkbox\" ><label for=\"sk-estimator-id-4\" class=\"sk-toggleable__label sk-toggleable__label-arrow\">RandomizedSearchCV</label><div class=\"sk-toggleable__content\"><pre>RandomizedSearchCV(cv=5, estimator=SVC(), n_iter=60, n_jobs=-1,\n",
       "                   param_distributions={&#x27;C&#x27;: [1, 2, 3, 4, 5, 6, 7, 8, 9, 10, 11,\n",
       "                                              12, 13, 14, 15, 16, 17, 18, 19,\n",
       "                                              20],\n",
       "                                        &#x27;gamma&#x27;: [&#x27;scale&#x27;, &#x27;auto&#x27;],\n",
       "                                        &#x27;kernel&#x27;: [&#x27;linear&#x27;, &#x27;poly&#x27;, &#x27;rbf&#x27;]},\n",
       "                   random_state=10, scoring=&#x27;f1&#x27;)</pre></div></div></div><div class=\"sk-parallel\"><div class=\"sk-parallel-item\"><div class=\"sk-item\"><div class=\"sk-label-container\"><div class=\"sk-label sk-toggleable\"><input class=\"sk-toggleable__control sk-hidden--visually\" id=\"sk-estimator-id-5\" type=\"checkbox\" ><label for=\"sk-estimator-id-5\" class=\"sk-toggleable__label sk-toggleable__label-arrow\">estimator: SVC</label><div class=\"sk-toggleable__content\"><pre>SVC()</pre></div></div></div><div class=\"sk-serial\"><div class=\"sk-item\"><div class=\"sk-estimator sk-toggleable\"><input class=\"sk-toggleable__control sk-hidden--visually\" id=\"sk-estimator-id-6\" type=\"checkbox\" ><label for=\"sk-estimator-id-6\" class=\"sk-toggleable__label sk-toggleable__label-arrow\">SVC</label><div class=\"sk-toggleable__content\"><pre>SVC()</pre></div></div></div></div></div></div></div></div></div></div>"
      ],
      "text/plain": [
       "RandomizedSearchCV(cv=5, estimator=SVC(), n_iter=60, n_jobs=-1,\n",
       "                   param_distributions={'C': [1, 2, 3, 4, 5, 6, 7, 8, 9, 10, 11,\n",
       "                                              12, 13, 14, 15, 16, 17, 18, 19,\n",
       "                                              20],\n",
       "                                        'gamma': ['scale', 'auto'],\n",
       "                                        'kernel': ['linear', 'poly', 'rbf']},\n",
       "                   random_state=10, scoring='f1')"
      ]
     },
     "execution_count": 43,
     "metadata": {},
     "output_type": "execute_result"
    }
   ],
   "source": [
    "# Train with Random Search\n",
    "\n",
    "svm_randomcv = RandomizedSearchCV(estimator=SVC(),\n",
    "                                 param_distributions=random_search_params,\n",
    "                                 n_iter=60,\n",
    "                                 cv=5,\n",
    "                                 random_state=10,\n",
    "                                 n_jobs=-1,\n",
    "                                 scoring='f1')\n",
    "svm_randomcv.fit(X_train_final, y_train)"
   ]
  },
  {
   "cell_type": "markdown",
   "metadata": {},
   "source": [
    "Melakukan training model SVM menggunakan random search "
   ]
  },
  {
   "cell_type": "code",
   "execution_count": 44,
   "metadata": {},
   "outputs": [
    {
     "data": {
      "text/plain": [
       "{'kernel': 'rbf', 'gamma': 'auto', 'C': 1}"
      ]
     },
     "execution_count": 44,
     "metadata": {},
     "output_type": "execute_result"
    }
   ],
   "source": [
    "# Get Best Hyperparameters\n",
    "\n",
    "svm_randomcv.best_params_\n"
   ]
  },
  {
   "cell_type": "markdown",
   "metadata": {},
   "source": [
    "Berdasarkan data diatas didapatkan informasi bahwa hyperparameter yang baik menggunakan kernal rbf, gamma auto, serta C = 1"
   ]
  },
  {
   "cell_type": "code",
   "execution_count": 45,
   "metadata": {},
   "outputs": [
    {
     "data": {
      "text/html": [
       "<style>#sk-container-id-5 {color: black;background-color: white;}#sk-container-id-5 pre{padding: 0;}#sk-container-id-5 div.sk-toggleable {background-color: white;}#sk-container-id-5 label.sk-toggleable__label {cursor: pointer;display: block;width: 100%;margin-bottom: 0;padding: 0.3em;box-sizing: border-box;text-align: center;}#sk-container-id-5 label.sk-toggleable__label-arrow:before {content: \"▸\";float: left;margin-right: 0.25em;color: #696969;}#sk-container-id-5 label.sk-toggleable__label-arrow:hover:before {color: black;}#sk-container-id-5 div.sk-estimator:hover label.sk-toggleable__label-arrow:before {color: black;}#sk-container-id-5 div.sk-toggleable__content {max-height: 0;max-width: 0;overflow: hidden;text-align: left;background-color: #f0f8ff;}#sk-container-id-5 div.sk-toggleable__content pre {margin: 0.2em;color: black;border-radius: 0.25em;background-color: #f0f8ff;}#sk-container-id-5 input.sk-toggleable__control:checked~div.sk-toggleable__content {max-height: 200px;max-width: 100%;overflow: auto;}#sk-container-id-5 input.sk-toggleable__control:checked~label.sk-toggleable__label-arrow:before {content: \"▾\";}#sk-container-id-5 div.sk-estimator input.sk-toggleable__control:checked~label.sk-toggleable__label {background-color: #d4ebff;}#sk-container-id-5 div.sk-label input.sk-toggleable__control:checked~label.sk-toggleable__label {background-color: #d4ebff;}#sk-container-id-5 input.sk-hidden--visually {border: 0;clip: rect(1px 1px 1px 1px);clip: rect(1px, 1px, 1px, 1px);height: 1px;margin: -1px;overflow: hidden;padding: 0;position: absolute;width: 1px;}#sk-container-id-5 div.sk-estimator {font-family: monospace;background-color: #f0f8ff;border: 1px dotted black;border-radius: 0.25em;box-sizing: border-box;margin-bottom: 0.5em;}#sk-container-id-5 div.sk-estimator:hover {background-color: #d4ebff;}#sk-container-id-5 div.sk-parallel-item::after {content: \"\";width: 100%;border-bottom: 1px solid gray;flex-grow: 1;}#sk-container-id-5 div.sk-label:hover label.sk-toggleable__label {background-color: #d4ebff;}#sk-container-id-5 div.sk-serial::before {content: \"\";position: absolute;border-left: 1px solid gray;box-sizing: border-box;top: 0;bottom: 0;left: 50%;z-index: 0;}#sk-container-id-5 div.sk-serial {display: flex;flex-direction: column;align-items: center;background-color: white;padding-right: 0.2em;padding-left: 0.2em;position: relative;}#sk-container-id-5 div.sk-item {position: relative;z-index: 1;}#sk-container-id-5 div.sk-parallel {display: flex;align-items: stretch;justify-content: center;background-color: white;position: relative;}#sk-container-id-5 div.sk-item::before, #sk-container-id-5 div.sk-parallel-item::before {content: \"\";position: absolute;border-left: 1px solid gray;box-sizing: border-box;top: 0;bottom: 0;left: 50%;z-index: -1;}#sk-container-id-5 div.sk-parallel-item {display: flex;flex-direction: column;z-index: 1;position: relative;background-color: white;}#sk-container-id-5 div.sk-parallel-item:first-child::after {align-self: flex-end;width: 50%;}#sk-container-id-5 div.sk-parallel-item:last-child::after {align-self: flex-start;width: 50%;}#sk-container-id-5 div.sk-parallel-item:only-child::after {width: 0;}#sk-container-id-5 div.sk-dashed-wrapped {border: 1px dashed gray;margin: 0 0.4em 0.5em 0.4em;box-sizing: border-box;padding-bottom: 0.4em;background-color: white;}#sk-container-id-5 div.sk-label label {font-family: monospace;font-weight: bold;display: inline-block;line-height: 1.2em;}#sk-container-id-5 div.sk-label-container {text-align: center;}#sk-container-id-5 div.sk-container {/* jupyter's `normalize.less` sets `[hidden] { display: none; }` but bootstrap.min.css set `[hidden] { display: none !important; }` so we also need the `!important` here to be able to override the default hidden behavior on the sphinx rendered scikit-learn.org. See: https://github.com/scikit-learn/scikit-learn/issues/21755 */display: inline-block !important;position: relative;}#sk-container-id-5 div.sk-text-repr-fallback {display: none;}</style><div id=\"sk-container-id-5\" class=\"sk-top-container\"><div class=\"sk-text-repr-fallback\"><pre>SVC(C=1, gamma=&#x27;auto&#x27;)</pre><b>In a Jupyter environment, please rerun this cell to show the HTML representation or trust the notebook. <br />On GitHub, the HTML representation is unable to render, please try loading this page with nbviewer.org.</b></div><div class=\"sk-container\" hidden><div class=\"sk-item\"><div class=\"sk-estimator sk-toggleable\"><input class=\"sk-toggleable__control sk-hidden--visually\" id=\"sk-estimator-id-7\" type=\"checkbox\" checked><label for=\"sk-estimator-id-7\" class=\"sk-toggleable__label sk-toggleable__label-arrow\">SVC</label><div class=\"sk-toggleable__content\"><pre>SVC(C=1, gamma=&#x27;auto&#x27;)</pre></div></div></div></div></div>"
      ],
      "text/plain": [
       "SVC(C=1, gamma='auto')"
      ]
     },
     "execution_count": 45,
     "metadata": {},
     "output_type": "execute_result"
    }
   ],
   "source": [
    "# Get Best Estimator\n",
    "svm_randomcv_best = svm_randomcv.best_estimator_\n",
    "\n",
    "svm_randomcv_best"
   ]
  },
  {
   "cell_type": "markdown",
   "metadata": {},
   "source": [
    "Mendapatkan dan memasukkan hyperparamter terbaik berdasarkan random search pada model SVM"
   ]
  },
  {
   "cell_type": "code",
   "execution_count": 46,
   "metadata": {},
   "outputs": [
    {
     "name": "stdout",
     "output_type": "stream",
     "text": [
      "F1 Score - Test Set   :  0.5596330275229359 \n",
      "\n",
      "Classification Report : \n",
      "               precision    recall  f1-score   support\n",
      "\n",
      "           0       0.86      0.94      0.90       462\n",
      "           1       0.70      0.47      0.56       131\n",
      "\n",
      "    accuracy                           0.84       593\n",
      "   macro avg       0.78      0.70      0.73       593\n",
      "weighted avg       0.83      0.84      0.83       593\n",
      " \n",
      "\n",
      "Confusion Matrix      : \n",
      " <sklearn.metrics._plot.confusion_matrix.ConfusionMatrixDisplay object at 0x0000020B23930820>\n"
     ]
    },
    {
     "data": {
      "image/png": "[encoded data removed]",
      "text/plain": [
       "<Figure size 1000x800 with 2 Axes>"
      ]
     },
     "metadata": {},
     "output_type": "display_data"
    }
   ],
   "source": [
    "# Check Performance Model against Test-Set\n",
    "\n",
    "y_pred_test = svm_randomcv_best.predict(X_test_final)\n",
    "\n",
    "print('F1 Score - Test Set   : ', f1_score(y_test, y_pred_test), '\\n')\n",
    "print('Classification Report : \\n', classification_report(y_test, y_pred_test), '\\n')\n",
    "print('Confusion Matrix      : \\n', ConfusionMatrixDisplay.from_estimator(svm_randomcv_best, X_test_final, y_test, cmap='Reds'))"
   ]
  },
  {
   "cell_type": "markdown",
   "metadata": {},
   "source": [
    "Berdasarkan hasil hyperparameter tuning, didapatkan bahwa jika SVM menggunakan kernal RBF, dengan gamma auto dan C = 1, F1 Score pada SVM tidak berubah jika menggunakan SVM secara default. Dengan demikian, baik setelah menggunakan hyperparameter tuning tidak terjadi perubahan pada F1 Score"
   ]
  },
  {
   "cell_type": "markdown",
   "metadata": {},
   "source": [
    "# Model Inference"
   ]
  },
  {
   "cell_type": "code",
   "execution_count": 47,
   "metadata": {},
   "outputs": [
    {
     "data": {
      "text/html": [
       "<div>\n",
       "<style scoped>\n",
       "    .dataframe tbody tr th:only-of-type {\n",
       "        vertical-align: middle;\n",
       "    }\n",
       "\n",
       "    .dataframe tbody tr th {\n",
       "        vertical-align: top;\n",
       "    }\n",
       "\n",
       "    .dataframe thead th {\n",
       "        text-align: right;\n",
       "    }\n",
       "</style>\n",
       "<table border=\"1\" class=\"dataframe\">\n",
       "  <thead>\n",
       "    <tr style=\"text-align: right;\">\n",
       "      <th></th>\n",
       "      <th>limit_balance</th>\n",
       "      <th>sex</th>\n",
       "      <th>education_level</th>\n",
       "      <th>marital_status</th>\n",
       "      <th>age</th>\n",
       "      <th>pay_0</th>\n",
       "      <th>pay_2</th>\n",
       "      <th>pay_3</th>\n",
       "      <th>pay_4</th>\n",
       "      <th>pay_5</th>\n",
       "      <th>...</th>\n",
       "      <th>bill_amt_4</th>\n",
       "      <th>bill_amt_5</th>\n",
       "      <th>bill_amt_6</th>\n",
       "      <th>pay_amt_1</th>\n",
       "      <th>pay_amt_2</th>\n",
       "      <th>pay_amt_3</th>\n",
       "      <th>pay_amt_4</th>\n",
       "      <th>pay_amt_5</th>\n",
       "      <th>pay_amt_6</th>\n",
       "      <th>default_payment_next_month</th>\n",
       "    </tr>\n",
       "  </thead>\n",
       "  <tbody>\n",
       "    <tr>\n",
       "      <th>1765</th>\n",
       "      <td>60000.0</td>\n",
       "      <td>2</td>\n",
       "      <td>2</td>\n",
       "      <td>1</td>\n",
       "      <td>42.0</td>\n",
       "      <td>0.0</td>\n",
       "      <td>0.0</td>\n",
       "      <td>0.0</td>\n",
       "      <td>2.0</td>\n",
       "      <td>2.0</td>\n",
       "      <td>...</td>\n",
       "      <td>55566.0</td>\n",
       "      <td>59331.0</td>\n",
       "      <td>60569.0</td>\n",
       "      <td>2760.0</td>\n",
       "      <td>4941.0</td>\n",
       "      <td>0.0</td>\n",
       "      <td>4675.0</td>\n",
       "      <td>2361.0</td>\n",
       "      <td>0.0</td>\n",
       "      <td>1</td>\n",
       "    </tr>\n",
       "  </tbody>\n",
       "</table>\n",
       "<p>1 rows × 24 columns</p>\n",
       "</div>"
      ],
      "text/plain": [
       "      limit_balance  sex  education_level  marital_status   age  pay_0  pay_2  \\\n",
       "1765        60000.0    2                2               1  42.0    0.0    0.0   \n",
       "\n",
       "      pay_3  pay_4  pay_5  ...  bill_amt_4  bill_amt_5  bill_amt_6  pay_amt_1  \\\n",
       "1765    0.0    2.0    2.0  ...     55566.0     59331.0     60569.0     2760.0   \n",
       "\n",
       "      pay_amt_2  pay_amt_3  pay_amt_4  pay_amt_5  pay_amt_6  \\\n",
       "1765     4941.0        0.0     4675.0     2361.0        0.0   \n",
       "\n",
       "      default_payment_next_month  \n",
       "1765                           1  \n",
       "\n",
       "[1 rows x 24 columns]"
      ]
     },
     "execution_count": 47,
     "metadata": {},
     "output_type": "execute_result"
    }
   ],
   "source": [
    "# Mengambil sample inference dari dataframe\n",
    "\n",
    "df_inference = df.sample(1, random_state=1)\n",
    "\n",
    "df_inference"
   ]
  },
  {
   "cell_type": "markdown",
   "metadata": {},
   "source": [
    "Mengambilm data inferencen mennggunakan salah satu sample pada dataset df."
   ]
  },
  {
   "cell_type": "code",
   "execution_count": 48,
   "metadata": {},
   "outputs": [],
   "source": [
    "# Melakukan split data numerik dan data kategorial\n",
    "\n",
    "data_inf_numerik = df_inference[['limit_balance']]\n",
    "data_inf_kategori = df_inference[['pay_0','pay_2', 'pay_3', 'pay_4', 'pay_5', 'pay_6']]"
   ]
  },
  {
   "cell_type": "markdown",
   "metadata": {},
   "source": [
    "Membagi kolom numerik dan kategori pada data inference"
   ]
  },
  {
   "cell_type": "code",
   "execution_count": 49,
   "metadata": {},
   "outputs": [
    {
     "data": {
      "text/plain": [
       "array([[0.06329114, 0.        , 0.        , 0.        , 2.        ,\n",
       "        2.        , 2.        ]])"
      ]
     },
     "execution_count": 49,
     "metadata": {},
     "output_type": "execute_result"
    }
   ],
   "source": [
    "# Melakukan scaling dan encoding pada kolom numerik dan kategori\n",
    "\n",
    "df_inf_scaled = scaler.transform(data_inf_numerik)\n",
    "\n",
    "df_inference_final = np.column_stack((df_inf_scaled, data_inf_kategori))\n",
    "\n",
    "df_inference_final"
   ]
  },
  {
   "cell_type": "markdown",
   "metadata": {},
   "source": [
    "Melakukan scaling pada numerik saja dan menggabungkan data numerik yang sudah di scaling dan data kategori pada data inference"
   ]
  },
  {
   "cell_type": "code",
   "execution_count": 50,
   "metadata": {},
   "outputs": [
    {
     "name": "stdout",
     "output_type": "stream",
     "text": [
      "Hasil prediksi default_pay_next_month : [0]\n"
     ]
    }
   ],
   "source": [
    "# Melakukan prediksi svm linear\n",
    "y_pred_inference_knn = svm_randomcv.predict(df_inference_final)\n",
    "\n",
    "print(f\"Hasil prediksi default_pay_next_month : {y_pred_inference_knn}\")"
   ]
  },
  {
   "cell_type": "markdown",
   "metadata": {},
   "source": [
    "Pada saat dilakukan test pada data inferece didapatkan bahwa jika menggunakan data inference, model berhasil melakukan prediksi."
   ]
  },
  {
   "cell_type": "markdown",
   "metadata": {},
   "source": [
    "# Model Saving"
   ]
  },
  {
   "cell_type": "code",
   "execution_count": 51,
   "metadata": {},
   "outputs": [],
   "source": [
    "#Save the files\n",
    "\n",
    "with open('model_scaler.pkl', 'wb') as file_1:\n",
    "  pickle.dump(scaler, file_1)\n",
    "\n",
    "with open('model_svm_random.pkl', 'wb') as file_2:\n",
    "  pickle.dump(svm_randomcv, file_2)"
   ]
  },
  {
   "cell_type": "markdown",
   "metadata": {},
   "source": [
    "Melakukan saving pada file scaler dan svm_random untuk membantu proses deployment."
   ]
  },
  {
   "cell_type": "markdown",
   "metadata": {},
   "source": [
    "# Overall Analysis"
   ]
  },
  {
   "cell_type": "markdown",
   "metadata": {},
   "source": [
    "Berdasarkan proses hasil modeling, didapatkan bahwa model yang terbaik untuk memprediksi default_pay_next_month sebagai target terdapat pada model Support Vector Machine dengan kernal RBF, gamma = auto, dan C = 1, jika dibandingkan dengan model Logistic Regression dan K-Nearest Neighbor karena F1 Score yang diberikan pada test lebih baik pada SVM. Kemudian didapatkan bahwa setelah melakukan hyperparameter tuning didapatkan bahwa F1 Score tidak terjadi perubahan yang siginifikan. Walaupun demikian pada data inference masih terdapat salah prediksi jika class 1. \n",
    "\n",
    "Adapun jika menggunakan model SVM, Kelebihannya adalah efektif dalam ruang fitur berdimensi tinggi, dapat menangani dataset non-linier, serta  SVM pengklasifikasi pada dasarnya menggunakan subset dari poin pelatihan sehingga hasilnya menggunakan memori yang sangat sedikit. Sedangkan Kelemahan ika menggunakan model SVM adalah memiliki hyperparameter yang cukup banyak dan tidak efisien untuk dataset besar.\n",
    "\n",
    "Oleh karena itu futher improvement yang dapat dilakukan agar model yang didapatkan jauh lebih baik seperti:\n",
    "\n",
    "1. Feature Engineering:\n",
    "\n",
    "Evaluasi dan eksplorasi fitur tambahan yang dapat menambah nilai prediktif pada model.\n",
    "\n",
    "Mungkin terdapat transformasi variabel atau pembuatan fitur baru yang dapat meningkatkan performa model.\n",
    "\n",
    "2. Optimasi Hyperparameter Lebih Lanjut:\n",
    "\n",
    "Meskipun tuning hyperparameter telah dilakukan, perlu dicoba variasi nilai hyperparameter yang lebih luas atau menggunakan metode pencarian yang berbeda untuk memastikan bahwa tidak ada kombinasi hyperparameter yang lebih baik.\n",
    "\n",
    "Dengan demikian, model tidak hanya dapat memberikan prediksi yang lebih baik.\n",
    "\n"
   ]
  },
  {
   "cell_type": "markdown",
   "metadata": {},
   "source": [
    "# Conceptual Problem"
   ]
  },
  {
   "cell_type": "markdown",
   "metadata": {},
   "source": [
    "1. Coeficient pada Logistic Regression:\n",
    "\n",
    "Coefficient pada logistic regression mengacu pada nilai-nilai yang menggambarkan seberapa besar dan arah hubungan antara variabel input dan variabel output (target). Dalam konteks logistic regression, model menghitung nilai log-odds atau logit dari probabilitas bahwa observasi akan masuk ke dalam kategori positif. Coefficient (koefisien) ini menunjukkan seberapa besar perubahan dalam log-odds yang diharapkan terjadi ketika variabel input mengalami satu unit perubahan. Koefisien positif menunjukkan bahwa terdapat korelasi positif dengan variabel output, sementara koefisien negatif menunjukkan korelasi negatif.\n",
    "\n",
    "2. Fungsi Parameter Kernel pada SVM:\n",
    "\n",
    "Kernel pada Support Vector Machines (SVM) digunakan untuk mengubah data masukan menjadi ruang fitur berdimensi lebih tinggi, sehingga titik data dapat dipisahkan secara linier atau memiliki hubungan yang lebih kompleks. Fungsi kernel memungkinkan SVM untuk menangani data non-linier dan kompleks tanpa menghitung fitur secara eksplisit, yang mungkin mahal atau tidak mungkin dilakukan secara komputasi . Salah satu kernel yang umum digunakan adalah kernel Radial Basis Function (RBF) atau Gaussian kernel. Kernel RBF dapat memodelkan hubungan non-linier dan kompleks antara titik data, dan dapat menciptakan batasan keputusan yang mulus dan melingkar. Kernel RBF cocok untuk data berdimensi sedang dan beragam, yang titik datanya mungkin memiliki skala dan distribusi berbeda. Kernel RBF juga dikenal sebagai kernel Gaussian atau kernel eksponensial [Sumber](https://www.linkedin.com/advice/0/what-best-kernel-functions-support-vector-machine-13hme) . \n",
    "\n",
    "3. Cara Memilih K yang Optimal pada KNN: [Sumber](https://lp2m.uma.ac.id/2023/02/16/algoritma-k-nearest-neighbors-knn-pengertian-dan-penerapan/)\n",
    "\n",
    "Pemilihan nilai K yang optimal pada K-Nearest Neighbors (KNN) dapat dilakukan dengan menggunakan teknik seperti cross-validation. Dengan membagi data menjadi beberapa lipatan (folds), kita dapat mengukur performa model KNN dengan berbagai nilai K dan memilih nilai K yang memberikan kinerja terbaik. Pada setiap iterasi cross-validation, model KNN dilatih dengan K yang berbeda dan diukur performanya. Nilai K yang memberikan hasil rata-rata atau median performa terbaik pada semua iterasi cross-validation dapat dipilih sebagai nilai K optimal.\n",
    "\n",
    "4. Metrics-Metrics pada Evaluasi Model: [Sumber](https://stevkarta.medium.com/membicarakan-precision-recall-dan-f1-score-e96d81910354)\n",
    "\n",
    "Accuracy: Rasio prediksi benar (positif dan negatif) terhadap total prediksi. Cocok digunakan ketika distribusi kelas seimbang.\n",
    "Precision: Rasio prediksi benar positif terhadap total prediksi positif. Berguna ketika fokus pada akurasi prediksi positif.\n",
    "Recall (Sensitivitas): Rasio prediksi benar positif terhadap total jumlah positif sebenarnya. Penting ketika mengidentifikasi sebanyak mungkin kasus positif.\n",
    "F1 Score: Harmonic mean antara precision dan recall. Menggabungkan keduanya untuk memberikan nilai yang seimbang dan cocok digunakan pada dataset yang tidak seimbang.\n",
    "Waktu Penggunaan: Pilihan waktu penggunaan dapat bergantung pada seberapa pentingnya false positives (precision), false negatives (recall), atau keharmonisan keduanya (F1 Score). Precision cocok digunakan untuk mendeteksi sidik jari pada perusahaan/instansi negara agar orang yang seharusnya tidak karyawan tidak terdeteksi sebagai karyawan. Recall cocok digunakan untuk mendeteksi pasien yang seharusnya positive covid-19 tidak terdeteksi sebagai pasien yang negative covid-19.  Accuracy cocok digunakan ketika distribusi kelas seimbang, sedangkan precision dan recall lebih relevan dalam kasus kelas tidak seimbang."
   ]
  }
 ],
 "metadata": {
  "kernelspec": {
   "display_name": "base",
   "language": "python",
   "name": "python3"
  },
  "language_info": {
   "codemirror_mode": {
    "name": "ipython",
    "version": 3
   },
   "file_extension": ".py",
   "mimetype": "text/x-python",
   "name": "python",
   "nbconvert_exporter": "python",
   "pygments_lexer": "ipython3",
   "version": "3.9.18"
  }
 },
 "nbformat": 4,
 "nbformat_minor": 2
}
